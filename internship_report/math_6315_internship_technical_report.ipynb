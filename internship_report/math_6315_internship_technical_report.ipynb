{
  "nbformat": 4,
  "nbformat_minor": 0,
  "metadata": {
    "colab": {
      "name": "Copy of Copy of math_6315_internship_technical_report.ipynb",
      "provenance": [],
      "collapsed_sections": []
    },
    "kernelspec": {
      "display_name": "Python 3",
      "name": "python3"
    },
    "language_info": {
      "name": "python"
    },
    "accelerator": "GPU"
  },
  "cells": [
    {
      "cell_type": "markdown",
      "metadata": {
        "id": "KvOGfe7e9DbS"
      },
      "source": [
        "# **Preparation**"
      ]
    },
    {
      "cell_type": "code",
      "metadata": {
        "id": "_RWOwFkLAKWO"
      },
      "source": [
        "import os"
      ],
      "execution_count": null,
      "outputs": []
    },
    {
      "cell_type": "code",
      "metadata": {
        "colab": {
          "base_uri": "https://localhost:8080/",
          "height": 35
        },
        "id": "6MoxpQNtARHX",
        "outputId": "96d29d30-02de-4d8b-e94f-90d795fa853b"
      },
      "source": [
        "os.getcwd() # get the current working directory"
      ],
      "execution_count": null,
      "outputs": [
        {
          "output_type": "execute_result",
          "data": {
            "application/vnd.google.colaboratory.intrinsic+json": {
              "type": "string"
            },
            "text/plain": [
              "'/content'"
            ]
          },
          "metadata": {
            "tags": []
          },
          "execution_count": 2
        }
      ]
    },
    {
      "cell_type": "code",
      "metadata": {
        "colab": {
          "base_uri": "https://localhost:8080/"
        },
        "id": "ScC86hUcARJ4",
        "outputId": "48ba419e-b041-466c-977a-d19cf0d3911b"
      },
      "source": [
        "from google.colab import drive\n",
        "drive.mount('/content/drive')"
      ],
      "execution_count": null,
      "outputs": [
        {
          "output_type": "stream",
          "text": [
            "Drive already mounted at /content/drive; to attempt to forcibly remount, call drive.mount(\"/content/drive\", force_remount=True).\n"
          ],
          "name": "stdout"
        }
      ]
    },
    {
      "cell_type": "code",
      "metadata": {
        "id": "WqD9Cg7Rz6ou"
      },
      "source": [
        "base_folder = '/content/drive/MyDrive/math 6315/Datasets/'\n",
        "os.chdir(base_folder) # change the current working directory to"
      ],
      "execution_count": null,
      "outputs": []
    },
    {
      "cell_type": "code",
      "metadata": {
        "id": "5bqbgwERz-xI"
      },
      "source": [
        "%load_ext rpy2.ipython"
      ],
      "execution_count": null,
      "outputs": []
    },
    {
      "cell_type": "code",
      "metadata": {
        "colab": {
          "base_uri": "https://localhost:8080/"
        },
        "id": "0bx8ps2Wz-0s",
        "outputId": "2edf6363-2563-4c09-bcfa-fdb0ab9981f1"
      },
      "source": [
        "%%R\n",
        "R.version"
      ],
      "execution_count": null,
      "outputs": [
        {
          "output_type": "stream",
          "text": [
            "               _                           \n",
            "platform       x86_64-pc-linux-gnu         \n",
            "arch           x86_64                      \n",
            "os             linux-gnu                   \n",
            "system         x86_64, linux-gnu           \n",
            "status                                     \n",
            "major          4                           \n",
            "minor          1.0                         \n",
            "year           2021                        \n",
            "month          05                          \n",
            "day            18                          \n",
            "svn rev        80317                       \n",
            "language       R                           \n",
            "version.string R version 4.1.0 (2021-05-18)\n",
            "nickname       Camp Pontanezen             \n"
          ],
          "name": "stdout"
        }
      ]
    },
    {
      "cell_type": "code",
      "metadata": {
        "id": "zm6JfHrT1Gf-"
      },
      "source": [
        "%%R\n",
        "library(readxl)\n",
        "school_code = read_xlsx(\n",
        "  path = \"P20_CODEBOOK -used.xlsx\", \n",
        "  sheet = \"Education-School Codes\",\n",
        "  col_names = TRUE\n",
        ") "
      ],
      "execution_count": null,
      "outputs": []
    },
    {
      "cell_type": "code",
      "metadata": {
        "id": "08VgA_1t1GjB"
      },
      "source": [
        "%%R\n",
        "base_name = c(\"Education\", \"Detention\", \"MAYSI\", \"Offense\")"
      ],
      "execution_count": null,
      "outputs": []
    },
    {
      "cell_type": "code",
      "metadata": {
        "colab": {
          "base_uri": "https://localhost:8080/"
        },
        "id": "UZqp7HUf1fmE",
        "outputId": "f8aa1592-181b-4f31-c6dd-da2a3359ab96"
      },
      "source": [
        "%%R\n",
        "library(readr)\n",
        "eval(parse(text = sprintf('%1$s = read_csv(\"%2$s.csv\")', tolower(base_name), base_name)))\n",
        "# reference: https://www.gastonsanchez.com/r4strings/c-style-formatting.html\n",
        "\n",
        "eval(parse(\n",
        "  text = sprintf(paste(\"II = rbind(subset(%1$s, select = c(PID, IIBD___, IIGE___, IIRA___)),\",\n",
        "                       \"subset(%2$s, select = c(PID, IIBD___, IIGE___, IIRA___)))\"), \n",
        "                 tolower(base_name)[1], tolower(base_name)[2])\n",
        "))\n",
        "eval(parse(\n",
        "  text = sprintf(\"II = rbind(II, subset(%1$s, select = c(PID, IIBD___, IIGE___, IIRA___)))\", \n",
        "                 tolower(base_name)[3: length(base_name)])\n",
        "))\n",
        "# replace \"M\" and \"F\" by \"Male\" and \"Female\" in column gender of all data-frames in base_name\n",
        "II = unique(II[order(II$PID, II$IIBD___, II$IIGE___, II$IIRA___), ])\n",
        "II$IIGE___ = ifelse(II$IIGE___ == \"M\", \"Male\", \n",
        "                    ifelse(II$IIGE___ == \"F\", \"Female\", II$IIGE___))\n",
        "# change ethnicity codes to their own implicit meanings\n",
        "II$IIRA___ = ifelse(\n",
        "  II$IIRA___ == \"A\", \"Asian\", \n",
        "  ifelse(II$IIRA___ == \"B\", \"Black\",\n",
        "         ifelse(II$IIRA___ == \"H\", \"Hispanic\",\n",
        "                ifelse(II$IIRA___ == \"W\", \"White\",\n",
        "                       ifelse(II$IIRA___ == \"U\", \"Unknown\", \n",
        "                              ifelse(is.na(II$IIRA___), \"Missing\", II$IIRA___)\n",
        "                              )\n",
        "                       )\n",
        "                )\n",
        "         )\n",
        ")\n",
        "colnames(II) = c(\"PID\", \"Birth_Date\", \"Gender\", \"Ethnicity\")\n",
        "\n",
        "# remove columns STUDY, PROJECT, IISY___, IIBD___, IIGE___, IIRA___ in all data-frames in base_name\n",
        "try({\n",
        "  eval(parse(\n",
        "    text = sprintf(\"%1$s = subset(%1$s, select = -c(STUDY, PROJECT, IISY___, IIBD___, IIGE___, IIRA___))\", \n",
        "                   tolower(base_name))\n",
        "  ))\n",
        "}) \n",
        "\n",
        "# Remove columns from all data-frames where ALL values are NA in base_name\n",
        "eval(parse(text = sprintf(\"%1$s = %1$s[, colSums(is.na(%1$s)) < nrow(%1$s)]\", tolower(base_name))))"
      ],
      "execution_count": null,
      "outputs": [
        {
          "output_type": "stream",
          "text": [
            "\n",
            "── Column specification ────────────────────────────────────────────────────────\n",
            "cols(\n",
            "  .default = col_logical(),\n",
            "  STUDY = col_character(),\n",
            "  PID = col_double(),\n",
            "  IISY___ = col_double(),\n",
            "  REFNUM = col_double(),\n",
            "  IIBD___ = col_datetime(format = \"\"),\n",
            "  IIGE___ = col_character(),\n",
            "  IIRA___ = col_character(),\n",
            "  JDEDSC_1 = col_character(),\n",
            "  JDEDID_1 = col_double(),\n",
            "  JDEDG_1 = col_double(),\n",
            "  JDEDET_1 = col_character(),\n",
            "  JDEDGS_1 = col_character(),\n",
            "  JDEDGR_1 = col_double(),\n",
            "  JDEDRG_1 = col_double(),\n",
            "  JDEDPA_1 = col_character(),\n",
            "  JDEDPG_1 = col_character(),\n",
            "  JDEDRI_1 = col_character(),\n",
            "  JDEDAS_1 = col_character(),\n",
            "  JDEDGA_1 = col_character(),\n",
            "  JDEDRDC_1 = col_character()\n",
            "  # ... with 89 more columns\n",
            ")\n",
            "ℹ Use `spec()` for the full column specifications.\n",
            "\n",
            "|===================================================================| 100% 47 MB\n"
          ],
          "name": "stdout"
        },
        {
          "output_type": "stream",
          "text": [
            "R[write to console]: Warning:\n",
            "R[write to console]:  1308 parsing failures.\n",
            "  row     col expected actual            file\n",
            " 5430 JDEDG_2 a double      C 'Education.csv'\n",
            "10357 JDEDG_1 a double      C 'Education.csv'\n",
            "12250 JDEDG_1 a double      C 'Education.csv'\n",
            "13218 JDEDG_4 a double      C 'Education.csv'\n",
            "14456 JDEDG_5 a double      C 'Education.csv'\n",
            "..... ....... ........ ...... ...............\n",
            "See problems(...) for more details.\n",
            "\n",
            "\n"
          ],
          "name": "stderr"
        },
        {
          "output_type": "stream",
          "text": [
            "\n",
            "── Column specification ────────────────────────────────────────────────────────\n",
            "cols(\n",
            "  .default = col_double(),\n",
            "  STUDY = col_character(),\n",
            "  PROJECT = col_logical(),\n",
            "  IIBD___ = col_datetime(format = \"\"),\n",
            "  IIGE___ = col_character(),\n",
            "  IIRA___ = col_character(),\n",
            "  JDDTDD_1 = col_datetime(format = \"\"),\n",
            "  JDDTDR_1 = col_datetime(format = \"\"),\n",
            "  JDDTDD_2 = col_character(),\n",
            "  JDDTDR_2 = col_character(),\n",
            "  JDDTOR_2 = col_logical(),\n",
            "  JDDTDD_3 = col_character(),\n",
            "  JDDTDR_3 = col_character(),\n",
            "  JDDTDD_4 = col_character(),\n",
            "  JDDTDR_4 = col_character(),\n",
            "  JDDTDD_5 = col_character(),\n",
            "  JDDTDR_5 = col_character(),\n",
            "  JDDTDD_6 = col_character(),\n",
            "  JDDTDR_6 = col_character(),\n",
            "  JDDTSN_7 = col_logical(),\n",
            "  JDDTF_7 = col_logical()\n",
            "  # ... with 16 more columns\n",
            ")\n",
            "ℹ Use `spec()` for the full column specifications.\n",
            "\n",
            "\n",
            "── Column specification ────────────────────────────────────────────────────────\n",
            "cols(\n",
            "  .default = col_logical(),\n",
            "  STUDY = col_character(),\n",
            "  PID = col_double(),\n",
            "  IISY___ = col_double(),\n",
            "  REFNUM = col_double(),\n",
            "  IIBD___ = col_datetime(format = \"\"),\n",
            "  IIGE___ = col_character(),\n",
            "  IIRA___ = col_character(),\n",
            "  JDMYSN_1 = col_double(),\n",
            "  JDMYSDC_1 = col_double(),\n",
            "  JDMYA_1 = col_character(),\n",
            "  JDMYNA_1 = col_character(),\n",
            "  JDMYAD_1 = col_double(),\n",
            "  JDMYAI_1 = col_double(),\n",
            "  JDMYDA_1 = col_double(),\n",
            "  JDMYSC_1 = col_double(),\n",
            "  JDMYSI_1 = col_double(),\n",
            "  JDMYTD_1 = col_double(),\n",
            "  JDMYTE_1 = col_double(),\n",
            "  JDMYR_1 = col_character(),\n",
            "  JDMYRW_1 = col_character()\n",
            "  # ... with 34 more columns\n",
            ")\n",
            "ℹ Use `spec()` for the full column specifications.\n",
            "\n",
            "|===================================================================| 100% 21 MB\n",
            "\n",
            "── Column specification ────────────────────────────────────────────────────────\n",
            "cols(\n",
            "  .default = col_logical(),\n",
            "  STUDY = col_character(),\n",
            "  PID = col_double(),\n",
            "  IISY___ = col_double(),\n",
            "  REFNUM = col_double(),\n",
            "  IIBD___ = col_datetime(format = \"\"),\n",
            "  IIGE___ = col_character(),\n",
            "  IIRA___ = col_character(),\n",
            "  JDOFSN_1 = col_double(),\n",
            "  JDOFODC_1 = col_double(),\n",
            "  JDOFCN_1 = col_double(),\n",
            "  JDOFOC_1 = col_double(),\n",
            "  JDOFPC_1 = col_character(),\n",
            "  JDOFIN_1 = col_character(),\n",
            "  JDOFDI_1 = col_character(),\n",
            "  JDOFL_1 = col_character(),\n",
            "  JDOFSDC_1 = col_character(),\n",
            "  JDOFOD_1 = col_datetime(format = \"\"),\n",
            "  JDOFSC_1 = col_double(),\n",
            "  JDOFSD_1 = col_character(),\n",
            "  JDOFNC_1 = col_character()\n",
            "  # ... with 5 more columns\n",
            ")\n",
            "ℹ Use `spec()` for the full column specifications.\n",
            "\n"
          ],
          "name": "stdout"
        }
      ]
    },
    {
      "cell_type": "code",
      "metadata": {
        "id": "LApXHC_CYU9o"
      },
      "source": [
        "%%R\n",
        "education_cut = subset(x = education, select = c(PID, REFNUM, JDEDG_1, JDEDGS_1, JDEDPA_1, JDEDGA_1, JDEDRI_1))\n",
        "colnames(education_cut) = c(\"PID\", \"REFNUM\", \"ED_grade_level\", \"ED_grade_status\", \"ED_participation\", \"ED_grade_avg\", \"ED_rule_infraction\")\n",
        "\n",
        "education_cut$ED_participation_f = as.integer( \n",
        "  factor(x = education_cut$ED_participation, levels = sort(unique(education_cut$ED_participation))) \n",
        ")\n",
        "\n",
        "education_cut$ED_grade_status_f = as.integer( \n",
        "  factor(x = education_cut$ED_grade_status, levels = sort(unique(education_cut$ED_grade_status))) \n",
        ")\n",
        "\n",
        "ED_grade_avg = ifelse(\n",
        "  education_cut$ED_grade_avg == \"A\", 5, \n",
        "  ifelse(education_cut$ED_grade_avg == \"B\", 4,\n",
        "         ifelse(education_cut$ED_grade_avg == \"C\", 3,\n",
        "                ifelse(education_cut$ED_grade_avg == \"D\", 2,\n",
        "                       ifelse(education_cut$ED_grade_avg == \"F\", 1, \n",
        "                              ifelse(education_cut$ED_grade_avg == \"I\", 0, education_cut$ED_grade_avg)\n",
        "                       )\n",
        "                )\n",
        "         )\n",
        "  )\n",
        ")\n",
        "education_cut$ED_grade_avg_f = as.integer(ED_grade_avg)\n",
        "\n",
        "education_cut$ED_rule_infraction_f = ifelse(\n",
        "  education_cut$ED_rule_infraction == \"N\", 0,\n",
        "  ifelse(education_cut$ED_rule_infraction == \"F\", 1, \n",
        "         ifelse(education_cut$ED_rule_infraction == \"M\", 2, education_cut$ED_rule_infraction)\n",
        "         )\n",
        ")"
      ],
      "execution_count": null,
      "outputs": []
    },
    {
      "cell_type": "code",
      "metadata": {
        "id": "N5W65iYC1fo2"
      },
      "source": [
        "%%R\n",
        "offense_cut = subset(\n",
        "  x = offense, \n",
        "  select = c(PID, REFNUM, JDOFOD_1, JDOFOC_1, JDOFNC_1, JDOFND_1, JDOFCT_1, JDOFSL_1)\n",
        ")\n",
        "colnames(offense_cut) = c(\"PID\", \"REFNUM\", \"OF_date\", \"OF_dps_code\", \n",
        "                          \"OF_code\", \"OF_description\", \"OF_category\",\n",
        "                          \"OF_severity_degree\")\n",
        "\n",
        "offense_cut$OF_description_f = as.integer( \n",
        "  factor(x = offense_cut$OF_description, levels = sort(unique(offense_cut$OF_description))) \n",
        ")\n",
        "\n",
        "offense_cut$OF_category_f = as.integer( \n",
        "  factor(x = offense_cut$OF_category, levels = sort(unique(offense_cut$OF_category))) \n",
        ")\n",
        "\n",
        "OF_t = table(offense$PID)\n",
        "OF_ordinal = c(1:OF_t[1], 1:OF_t[2])\n",
        "eval(parse(text = sprintf(\"OF_ordinal = c(OF_ordinal, 1:%1$s)\", OF_t[3:length(OF_t)])))\n",
        "offense_cut$OF_ordinal = OF_ordinal\n",
        "\n",
        "#OF_reoffense = rep(x = \"Yep\", times = nrow(offense_cut))\n",
        "#offense_cut$OF_reoffense = replace(x = OF_reoffense, list = cumsum(OF_t), values = \"Nope\")"
      ],
      "execution_count": null,
      "outputs": []
    },
    {
      "cell_type": "code",
      "metadata": {
        "id": "5qvEwRCN1frq"
      },
      "source": [
        "%%R\n",
        "detention_cut = subset(x = detention, select = c(PID, REFNUM, JDDTDD_1, JDDTDR_1))\n",
        "colnames(detention_cut) = c(\"PID\", \"REFNUM\", \"DT_enter\", \"DT_exit\")\n",
        "\n",
        "detention_cut$DT_convict = ifelse(is.na(detention_cut$DT_enter), 0, 1) # 0 means no, 1 means yes\n",
        "\n",
        "DT_duration = as.integer(difftime(detention_cut$DT_exit, detention_cut$DT_enter, units = \"days\")) + 1\n",
        "DT_duration[is.na(DT_duration)] = 0\n",
        "detention_cut$DT_duration = DT_duration"
      ],
      "execution_count": null,
      "outputs": []
    },
    {
      "cell_type": "code",
      "metadata": {
        "id": "-2mWCWFa2HsZ"
      },
      "source": [
        "%%R\n",
        "maysi_cut = subset(\n",
        "  x = maysi, \n",
        "  select = c(\"PID\", \"REFNUM\", \"JDMYSD_1\", \"JDMYA_1\", \"JDMYAD_1\", \"JDMYAI_1\", \n",
        "             \"JDMYDA_1\", \"JDMYSC_1\", \"JDMYSI_1\", \"JDMYTD_1\", \"JDMYTE_1\")\n",
        ")\n",
        "colnames(maysi_cut) = c(\"PID\", \"REFNUM\", \"MY_date\", \"MY_administered\",\n",
        "                        \"MY_alcohol_drug_use\", \"MY_angry_irritable\", \n",
        "                        \"MY_depressed_anxiety\", \"MY_somatic_complaints\", \n",
        "                        \"MY_suicide_ideation\", \"MY_thought_disturbance_boys\", \n",
        "                        \"MY_traumatic_experiences\")"
      ],
      "execution_count": null,
      "outputs": []
    },
    {
      "cell_type": "code",
      "metadata": {
        "id": "gHhibMXi2H1v"
      },
      "source": [
        "%%R\n",
        "library(tidyr)\n",
        "II$Birth_Date_1 = as.character(II$Birth_Date)\n",
        "II = separate(II, \"Birth_Date_1\", c(\"Birth_Year\", \"Birth_Month\", \"Birth_Day\"), sep = \"-\")\n",
        "\n",
        "df = merge(x = II, y = offense_cut, by = c(\"PID\"), all.y = TRUE)\n",
        "df = merge(x = df, y = detention_cut, by = c(\"PID\", \"REFNUM\"), all.x = TRUE)\n",
        "df = merge(x = df, y = maysi_cut, by = c(\"PID\", \"REFNUM\"), all.x = TRUE)\n",
        "df = merge(x = df, y = education_cut, by = c(\"PID\", \"REFNUM\"), all.x = TRUE)\n",
        "\n",
        "df$MY_dy_diff = as.integer(difftime(df$MY_date, df$OF_date, units = \"days\"))\n",
        "\n",
        "\n",
        "\n",
        "# replace \"M\" and \"F\" by 1 and 2 in column gender of all data-frames in base_name\n",
        "gender = ifelse(df$Gender == \"Male\", 1, \n",
        "                ifelse(df$Gender == \"Female\", 2, df$Gender))\n",
        "df$Gender = as.integer(gender)\n",
        "# change ethnicity codes to 0, 1, 2, 3, 4\n",
        "ethnicity = ifelse(\n",
        "  df$Ethnicity == \"Asian\", 1, \n",
        "  ifelse(df$Ethnicity == \"Black\", 2,\n",
        "         ifelse(df$Ethnicity == \"Hispanic\", 3,\n",
        "                ifelse(df$Ethnicity == \"White\", 4,\n",
        "                       ifelse(df$Ethnicity == \"Unknown\", 0, \n",
        "                              ifelse(is.na(df$Ethnicity), 0, df$Ethnicity)\n",
        "                       )\n",
        "                )\n",
        "         )\n",
        "  )\n",
        ")\n",
        "df$Ethnicity = as.integer(ethnicity)\n",
        "\n",
        "df$MY_administered = ifelse(df$MY_administered == \"N\" | is.na(df$MY_administered), 0,\n",
        "                            ifelse(df$MY_administered == \"Y\", 1, df$MY_administered))\n",
        "\n",
        "MY_score_col = c(\"MY_alcohol_drug_use\", \"MY_angry_irritable\", \"MY_depressed_anxiety\", \n",
        "                 \"MY_somatic_complaints\", \"MY_suicide_ideation\", \"MY_thought_disturbance_boys\", \n",
        "                 \"MY_traumatic_experiences\")\n",
        "df[MY_score_col][is.na(df[MY_score_col])] = -1\n",
        "\n",
        "df$DT_convict[is.na(df$DT_convict)] = 0\n",
        "df$DT_duration[is.na(df$DT_duration)] = 0\n",
        "\n",
        "df = df[-which(is.na(df$Birth_Date) | is.na(df$MY_date) | is.na(df$OF_date)), ]\n",
        "\n",
        "OF_age = as.integer(format(df$OF_date, \"%Y\")) - as.integer(format(df$Birth_Date, \"%Y\")) + \n",
        "  sapply(as.integer(format(df$OF_date, \"%m%d\")) - as.integer(format(df$Birth_Date, \"%m%d\")), \n",
        "         function(x) {if (x < 0) {return(-1)} else {return(0)}})\n",
        "df$OF_age = \n",
        "  OF_age + \n",
        "  as.integer(as.Date(df$OF_date) - as.Date(paste0((as.integer(format(df$Birth_Date, \"%Y\")) + OF_age), \n",
        "                                                  \"-\",format(df$Birth_Date, \"%m-%d\")))) / ((366 + 365 + 365 + 365) / 4)\n",
        "df$OF_age = replace(\n",
        "  x = df$OF_age, \n",
        "  list = which(is.na(df$OF_age)),\n",
        "  values = (OF_age + as.integer(as.Date(df$OF_date) - as.Date(paste0(as.integer(format(df$Birth_Date, \"%Y\")) + OF_age,\n",
        "                                                                     \"-02-28\"))) / ((366 + 365 + 365 + 365) / 4))[which(is.na(df$OF_age))]\n",
        ")\n",
        "\n",
        "\n",
        "df$MY_dy_diff = as.integer(difftime(df$MY_date, df$OF_date, units = \"days\"))\n",
        "\n",
        "\n",
        "MY_age = as.integer(format(df$MY_date, \"%Y\")) - as.integer(format(df$Birth_Date, \"%Y\")) + \n",
        "  sapply(as.integer(format(df$MY_date, \"%m%d\")) - as.integer(format(df$Birth_Date, \"%m%d\")), \n",
        "         function(x) {if (x < 0) {return(-1)} else {return(0)}})\n",
        "df$MY_age = \n",
        "  MY_age + \n",
        "  as.integer(as.Date(df$MY_date) - as.Date(paste0((as.integer(format(df$Birth_Date, \"%Y\")) + MY_age), \n",
        "                                                  \"-\",format(df$Birth_Date, \"%m-%d\")))) / ((366 + 365 + 365 + 365) / 4)\n",
        "df$MY_age = replace(\n",
        "  x = df$MY_age, \n",
        "  list = which(is.na(df$MY_age)),\n",
        "  values = (MY_age + as.integer(as.Date(df$MY_date) - as.Date(paste0(as.integer(format(df$Birth_Date, \"%Y\")) + MY_age,\n",
        "                                                                     \"-02-28\"))) / ((366 + 365 + 365 + 365) / 4))[which(is.na(df$MY_age))]\n",
        ")\n",
        "\n",
        "# https://www.thetexasattorney.com/juvenile-criminal-defense/#:~:text=The%20state%20of%20Texas%20falls,capacity%20to%20have%20criminal%20intent.\n",
        "df = df[which(df$Ethnicity != 0 & df$OF_age >= 10 & df$OF_age <= 17), ]\n",
        "\n",
        "OF_reoffense = rep(x = \"Yep\", times = nrow(df))\n",
        "df$OF_reoffense = replace(x = OF_reoffense, list = cumsum(table(df$PID)), values = \"Nope\")\n",
        "\n",
        "OF_t = table(df$PID)\n",
        "OF_ordinal = c(1:OF_t[1], 1:OF_t[2])\n",
        "eval(parse(text = sprintf(\"OF_ordinal = c(OF_ordinal, 1:%1$s)\", OF_t[3:length(OF_t)])))\n",
        "df$OF_ordinal = OF_ordinal\n",
        "\n",
        "#df = df[which(df$Birth_Year >= 1990 & df$Birth_Year <= 2004), ]\n",
        "#df = df[which(df$Birth_Year >= 1990), ]\n",
        "\n",
        "df_a = subset(\n",
        "  x = df, \n",
        "  select = c(\"PID\", \"OF_reoffense\", \n",
        "             \"Birth_Year\", \n",
        "             \"Birth_Month\", \"Birth_Day\", \n",
        "             \"Gender\", \"Ethnicity\", \"OF_age\", \n",
        "             \"OF_description_f\", \n",
        "             \"OF_category_f\", \"OF_severity_degree\", \n",
        "             \"OF_ordinal\", \n",
        "             \"DT_convict\", \"DT_duration\",\n",
        "             \"MY_dy_diff\",\n",
        "             \"MY_age\", \n",
        "             \"MY_administered\", \"MY_alcohol_drug_use\", \"MY_angry_irritable\", \"MY_depressed_anxiety\", \n",
        "             \"MY_somatic_complaints\", \"MY_suicide_ideation\", \"MY_thought_disturbance_boys\", \n",
        "             \"MY_traumatic_experiences\")\n",
        ")\n",
        "\n",
        "#df_a = df_a[-which(df_a$PID %in% unique(df_a[which(df_a$MY_dy_diff > 365 | df$MY_dy_diff < 0), \"PID\"])), ]\n",
        "\n",
        "df_a = df_a[-which(df_a$DT_convict == 1 & df_a$DT_duration <= 0), ]\n",
        "\n",
        "#df_a = df_a[which(df_a$MY_dy_diff <= 365 & df$MY_dy_diff >= 0), ]\n",
        "#df_a = df_a[which(abs(df_a$MY_dy_diff) <= 60), ]\n",
        "df_a = df_a[which(df_a$MY_dy_diff <= 180 & df_a$MY_dy_diff >= 0), ]\n",
        "\n",
        "df_a = subset(df_a, select = -c(MY_dy_diff))\n",
        "\n",
        "df_a = na.omit(df_a)\n"
      ],
      "execution_count": null,
      "outputs": []
    },
    {
      "cell_type": "code",
      "metadata": {
        "colab": {
          "base_uri": "https://localhost:8080/"
        },
        "id": "5-3Lwynl0ivJ",
        "outputId": "74b29ef8-77fe-458d-e402-975d083616b5"
      },
      "source": [
        "%%R\n",
        "print( table(df_a$OF_reoffense) )\n",
        "print( min(table(df_a$OF_reoffense)) / sum(table(df_a$OF_reoffense)) )"
      ],
      "execution_count": null,
      "outputs": [
        {
          "output_type": "stream",
          "text": [
            "\n",
            " Nope   Yep \n",
            "49050 34448 \n",
            "[1] 0.4125608\n"
          ],
          "name": "stdout"
        }
      ]
    },
    {
      "cell_type": "code",
      "metadata": {
        "id": "ItltdfkRlg0K",
        "colab": {
          "base_uri": "https://localhost:8080/"
        },
        "outputId": "f705daab-7e80-454e-e7ae-fbae1300e6c1"
      },
      "source": [
        "%%R\n",
        "## Handling Class Imblance\n",
        "#eval(parse(text = sprintf(\"num_CL%1$s = table(df_a$OF_reoffense)[%1$s]\", 1: length( unique(df_a$OF_reoffense) ))))\n",
        "\n",
        "#max_num_CL = as.integer(max(table(df_a$OF_reoffense)))\n",
        "\n",
        "#eval(parse(\n",
        "#    text = sprintf(\"pd_CL%1$s = sample(x = max_num_CL - as.integer(max_num_CL / num_CL%1$s) * num_CL%1$s, size = max_num_CL - as.integer(max_num_CL / num_CL%1$s) * num_CL%1$s, replace = FALSE)\", 1: length(unique(df_a$OF_reoffense)))\n",
        "#))\n",
        "\n",
        "#eval(parse(text = sprintf(\"CL%1$s = subset(df_a, OF_reoffense == dimnames(table(df_a$OF_reoffense))[[1]][%1$s])\",  1: length(unique(df_a$OF_reoffense)))))\n",
        "\n",
        "#eval(parse(text = sprintf(\"df_a = rbind(df_a, CL%1$s[rep(c(1:nrow(CL%1$s)), times = as.integer(max_num_CL / num_CL%1$s) - 1), ])\",  1: length(unique(df_a$OF_reoffense)))))\n",
        "#eval(parse(text = sprintf(\"df_a = rbind(df_a, CL%1$s[pd_CL%1$s, ])\",  1: length(unique(df_a$OF_reoffense)))))\n",
        "\n"
      ],
      "execution_count": null,
      "outputs": [
        {
          "output_type": "stream",
          "text": [
            "NULL\n"
          ],
          "name": "stdout"
        }
      ]
    },
    {
      "cell_type": "code",
      "metadata": {
        "id": "mWW3FpFYBhfV"
      },
      "source": [
        "%%R\n",
        "names(df_a)[names(df_a) == 'OF_reoffense'] = 'JDOF_reoffense'\n",
        "\n",
        "names(df_a)[names(df_a) == 'Birth_Year'] = 'IIBY___'\n",
        "names(df_a)[names(df_a) == 'Birth_Month'] = 'IIBM___'\n",
        "names(df_a)[names(df_a) == 'Birth_Day'] = 'IIBD___'\n",
        "names(df_a)[names(df_a) == 'Gender'] = 'IIGE___'\n",
        "names(df_a)[names(df_a) == 'Ethnicity'] = 'IIRA___'\n",
        "\n",
        "names(df_a)[names(df_a) == 'OF_age'] = 'JDOF_age'\n",
        "names(df_a)[names(df_a) == 'OF_description_f'] = 'JDOFND'\n",
        "names(df_a)[names(df_a) == 'OF_category_f'] = 'JDOFCT'\n",
        "names(df_a)[names(df_a) == 'OF_severity_degree'] = 'JDOFSL'\n",
        "names(df_a)[names(df_a) == 'OF_ordinal'] = 'JDOF_ordinal'\n",
        "\n",
        "names(df_a)[names(df_a) == 'DT_convict'] = 'JDDT_convict'\n",
        "names(df_a)[names(df_a) == 'DT_duration'] = 'JDDT_duration'\n",
        " \n",
        "names(df_a)[names(df_a) == 'MY_age'] = 'JDMY_age' \n",
        "names(df_a)[names(df_a) == 'MY_administered'] = 'JDMYA'\n",
        "names(df_a)[names(df_a) == 'MY_alcohol_drug_use'] = 'JDMYAD'\n",
        "names(df_a)[names(df_a) == 'MY_angry_irritable'] = 'JDMYAI'\n",
        "names(df_a)[names(df_a) == 'MY_depressed_anxiety'] = 'JDMYDA'\n",
        "names(df_a)[names(df_a) == 'MY_somatic_complaints'] = 'JDMYSC'\n",
        "names(df_a)[names(df_a) == 'MY_suicide_ideation'] = 'JDMYSI'\n",
        "names(df_a)[names(df_a) == 'MY_thought_disturbance_boys'] = 'JDMYTD'\n",
        "names(df_a)[names(df_a) == 'MY_traumatic_experiences'] = 'JDMYTE'"
      ],
      "execution_count": null,
      "outputs": []
    },
    {
      "cell_type": "code",
      "metadata": {
        "id": "TjQqxAJ-svQw"
      },
      "source": [
        "%%R\n",
        "write.csv(df_a, \"df_a.csv\", row.names = FALSE)"
      ],
      "execution_count": null,
      "outputs": []
    },
    {
      "cell_type": "code",
      "metadata": {
        "id": "JGftYywYitPT"
      },
      "source": [
        "%%R\n",
        "df_a = df_a[, -which(names(df_a) == 'JDOF_reoffense')]\n",
        "df_a = df_a[, -which(names(df_a) == 'PID')]\n",
        "\n",
        "eval(parse(text = sprintf('df_a$%1$s = as.numeric(df_a$%1$s)', colnames(df_a))))"
      ],
      "execution_count": null,
      "outputs": []
    },
    {
      "cell_type": "code",
      "metadata": {
        "colab": {
          "base_uri": "https://localhost:8080/",
          "height": 497
        },
        "id": "qgMoLl2nPXuD",
        "outputId": "c185346d-e3fb-454f-8cd1-fa3f1b91bc99"
      },
      "source": [
        "%%R\n",
        "par(mfrow = c(ceiling(ncol(df_a) / 7), 7))\n",
        "eval(parse(text = sprintf('hist(df_a$%1$s, xlab = \"%1$s\", main = \"Histogram of %1$s\")', colnames(df_a))))"
      ],
      "execution_count": null,
      "outputs": [
        {
          "output_type": "display_data",
          "data": {
            "image/png": "[encoded data removed]"
          },
          "metadata": {
            "tags": []
          }
        }
      ]
    },
    {
      "cell_type": "code",
      "metadata": {
        "id": "JZkFMqqKicvB"
      },
      "source": [
        "##%%capture is used to suppress output only in this cell \n",
        "%%capture \n",
        "%%R\n",
        "install.packages(\"ggplot2\")\n",
        "install.packages(\"GGally\")\n",
        "library(ggplot2)\n",
        "library(GGally)"
      ],
      "execution_count": null,
      "outputs": []
    },
    {
      "cell_type": "code",
      "metadata": {
        "colab": {
          "base_uri": "https://localhost:8080/",
          "height": 497
        },
        "id": "tlDZmdG1KEl3",
        "outputId": "293d67d1-9b67-49ea-da34-2bc0b818bc2d"
      },
      "source": [
        "%%R\n",
        "df_OF = df_a[, which(colnames(df_a) == 'JDOF_age'): which(colnames(df_a) == 'JDOF_ordinal')]\n",
        "ggpairs(data = df_OF, columns = 1: ncol(df_OF))"
      ],
      "execution_count": null,
      "outputs": [
        {
          "output_type": "display_data",
          "data": {
            "image/png": "[encoded data removed]"
          },
          "metadata": {
            "tags": []
          }
        }
      ]
    },
    {
      "cell_type": "code",
      "metadata": {
        "colab": {
          "base_uri": "https://localhost:8080/",
          "height": 497
        },
        "id": "rdg6W_JwIkdG",
        "outputId": "e27c53c2-7e62-4eef-fcbb-78feba8f48fc"
      },
      "source": [
        "%%R\n",
        "df_DT = df_a[, which(colnames(df_a) == 'JDDT_convict'): which(colnames(df_a) == 'JDDT_duration')]\n",
        "ggpairs(data = df_DT, columns = 1: ncol(df_DT))"
      ],
      "execution_count": null,
      "outputs": [
        {
          "output_type": "display_data",
          "data": {
            "image/png": "[encoded data removed]"
          },
          "metadata": {
            "tags": []
          }
        }
      ]
    },
    {
      "cell_type": "code",
      "metadata": {
        "colab": {
          "base_uri": "https://localhost:8080/",
          "height": 497
        },
        "id": "R9nbF6Jqh9sm",
        "outputId": "8de84c5b-0573-49e7-f190-b989ad7d1278"
      },
      "source": [
        "%%R\n",
        "df_MY = df_a[, which(colnames(df_a) == 'JDMY_age'): which(colnames(df_a) == 'JDMYTE')]\n",
        "ggpairs(data = df_MY, columns = 1: ncol(df_MY))"
      ],
      "execution_count": null,
      "outputs": [
        {
          "output_type": "display_data",
          "data": {
            "image/png": "[encoded data removed]"
          },
          "metadata": {
            "tags": []
          }
        }
      ]
    },
    {
      "cell_type": "markdown",
      "metadata": {
        "id": "lCxJ01CxOkdp"
      },
      "source": [
        "# **MLP**"
      ]
    },
    {
      "cell_type": "code",
      "metadata": {
        "id": "D_uhWQ6yz-3D"
      },
      "source": [
        "import numpy as np\n",
        "import pandas as pd\n",
        "from sklearn.neighbors import KNeighborsClassifier\n",
        "from sklearn.ensemble import RandomForestClassifier\n",
        "from sklearn.metrics import confusion_matrix"
      ],
      "execution_count": null,
      "outputs": []
    },
    {
      "cell_type": "code",
      "metadata": {
        "colab": {
          "base_uri": "https://localhost:8080/",
          "height": 419
        },
        "id": "zwDKmWrZARMO",
        "outputId": "d321ffbf-874d-423b-c967-fa948d488fad"
      },
      "source": [
        "base_folder = '/content/drive/MyDrive/math 6315/Datasets/'\n",
        "os.chdir(base_folder) # change the current working directory to\n",
        "\n",
        "base_name = ['df_a']\n",
        "\n",
        "for value in base_name:\n",
        "     exec(\"{x} = pd.read_csv(f'{x}.csv')\".format(x = value))\n",
        "\n",
        "df_a"
      ],
      "execution_count": null,
      "outputs": [
        {
          "output_type": "execute_result",
          "data": {
            "text/html": [
              "<div>\n",
              "<style scoped>\n",
              "    .dataframe tbody tr th:only-of-type {\n",
              "        vertical-align: middle;\n",
              "    }\n",
              "\n",
              "    .dataframe tbody tr th {\n",
              "        vertical-align: top;\n",
              "    }\n",
              "\n",
              "    .dataframe thead th {\n",
              "        text-align: right;\n",
              "    }\n",
              "</style>\n",
              "<table border=\"1\" class=\"dataframe\">\n",
              "  <thead>\n",
              "    <tr style=\"text-align: right;\">\n",
              "      <th></th>\n",
              "      <th>PID</th>\n",
              "      <th>JDOF_reoffense</th>\n",
              "      <th>IIBY___</th>\n",
              "      <th>IIBM___</th>\n",
              "      <th>IIBD___</th>\n",
              "      <th>IIGE___</th>\n",
              "      <th>IIRA___</th>\n",
              "      <th>JDOF_age</th>\n",
              "      <th>JDOFND</th>\n",
              "      <th>JDOFCT</th>\n",
              "      <th>JDOFSL</th>\n",
              "      <th>JDOF_ordinal</th>\n",
              "      <th>JDDT_convict</th>\n",
              "      <th>JDDT_duration</th>\n",
              "      <th>JDMY_age</th>\n",
              "      <th>JDMYA</th>\n",
              "      <th>JDMYAD</th>\n",
              "      <th>JDMYAI</th>\n",
              "      <th>JDMYDA</th>\n",
              "      <th>JDMYSC</th>\n",
              "      <th>JDMYSI</th>\n",
              "      <th>JDMYTD</th>\n",
              "      <th>JDMYTE</th>\n",
              "    </tr>\n",
              "  </thead>\n",
              "  <tbody>\n",
              "    <tr>\n",
              "      <th>0</th>\n",
              "      <td>1578461</td>\n",
              "      <td>Nope</td>\n",
              "      <td>1990</td>\n",
              "      <td>3</td>\n",
              "      <td>1</td>\n",
              "      <td>1</td>\n",
              "      <td>4</td>\n",
              "      <td>16.766598</td>\n",
              "      <td>92</td>\n",
              "      <td>7</td>\n",
              "      <td>8</td>\n",
              "      <td>1</td>\n",
              "      <td>0</td>\n",
              "      <td>0</td>\n",
              "      <td>16.895277</td>\n",
              "      <td>1</td>\n",
              "      <td>0</td>\n",
              "      <td>0</td>\n",
              "      <td>0</td>\n",
              "      <td>2</td>\n",
              "      <td>0</td>\n",
              "      <td>0</td>\n",
              "      <td>0</td>\n",
              "    </tr>\n",
              "    <tr>\n",
              "      <th>1</th>\n",
              "      <td>1583858</td>\n",
              "      <td>Nope</td>\n",
              "      <td>1990</td>\n",
              "      <td>9</td>\n",
              "      <td>12</td>\n",
              "      <td>1</td>\n",
              "      <td>3</td>\n",
              "      <td>15.725530</td>\n",
              "      <td>49</td>\n",
              "      <td>6</td>\n",
              "      <td>5</td>\n",
              "      <td>1</td>\n",
              "      <td>1</td>\n",
              "      <td>2</td>\n",
              "      <td>15.725530</td>\n",
              "      <td>1</td>\n",
              "      <td>3</td>\n",
              "      <td>2</td>\n",
              "      <td>2</td>\n",
              "      <td>1</td>\n",
              "      <td>0</td>\n",
              "      <td>0</td>\n",
              "      <td>0</td>\n",
              "    </tr>\n",
              "    <tr>\n",
              "      <th>2</th>\n",
              "      <td>1585839</td>\n",
              "      <td>Yep</td>\n",
              "      <td>1991</td>\n",
              "      <td>3</td>\n",
              "      <td>4</td>\n",
              "      <td>1</td>\n",
              "      <td>3</td>\n",
              "      <td>16.714579</td>\n",
              "      <td>572</td>\n",
              "      <td>8</td>\n",
              "      <td>4</td>\n",
              "      <td>1</td>\n",
              "      <td>0</td>\n",
              "      <td>0</td>\n",
              "      <td>16.933607</td>\n",
              "      <td>1</td>\n",
              "      <td>2</td>\n",
              "      <td>5</td>\n",
              "      <td>3</td>\n",
              "      <td>4</td>\n",
              "      <td>4</td>\n",
              "      <td>0</td>\n",
              "      <td>1</td>\n",
              "    </tr>\n",
              "    <tr>\n",
              "      <th>3</th>\n",
              "      <td>1585839</td>\n",
              "      <td>Nope</td>\n",
              "      <td>1991</td>\n",
              "      <td>3</td>\n",
              "      <td>4</td>\n",
              "      <td>1</td>\n",
              "      <td>3</td>\n",
              "      <td>16.952772</td>\n",
              "      <td>196</td>\n",
              "      <td>9</td>\n",
              "      <td>1</td>\n",
              "      <td>2</td>\n",
              "      <td>1</td>\n",
              "      <td>28</td>\n",
              "      <td>17.098563</td>\n",
              "      <td>1</td>\n",
              "      <td>0</td>\n",
              "      <td>0</td>\n",
              "      <td>0</td>\n",
              "      <td>0</td>\n",
              "      <td>0</td>\n",
              "      <td>0</td>\n",
              "      <td>0</td>\n",
              "    </tr>\n",
              "    <tr>\n",
              "      <th>4</th>\n",
              "      <td>1595211</td>\n",
              "      <td>Yep</td>\n",
              "      <td>1991</td>\n",
              "      <td>10</td>\n",
              "      <td>1</td>\n",
              "      <td>1</td>\n",
              "      <td>2</td>\n",
              "      <td>14.980151</td>\n",
              "      <td>329</td>\n",
              "      <td>4</td>\n",
              "      <td>4</td>\n",
              "      <td>1</td>\n",
              "      <td>0</td>\n",
              "      <td>0</td>\n",
              "      <td>15.177960</td>\n",
              "      <td>1</td>\n",
              "      <td>0</td>\n",
              "      <td>3</td>\n",
              "      <td>1</td>\n",
              "      <td>3</td>\n",
              "      <td>1</td>\n",
              "      <td>0</td>\n",
              "      <td>3</td>\n",
              "    </tr>\n",
              "    <tr>\n",
              "      <th>...</th>\n",
              "      <td>...</td>\n",
              "      <td>...</td>\n",
              "      <td>...</td>\n",
              "      <td>...</td>\n",
              "      <td>...</td>\n",
              "      <td>...</td>\n",
              "      <td>...</td>\n",
              "      <td>...</td>\n",
              "      <td>...</td>\n",
              "      <td>...</td>\n",
              "      <td>...</td>\n",
              "      <td>...</td>\n",
              "      <td>...</td>\n",
              "      <td>...</td>\n",
              "      <td>...</td>\n",
              "      <td>...</td>\n",
              "      <td>...</td>\n",
              "      <td>...</td>\n",
              "      <td>...</td>\n",
              "      <td>...</td>\n",
              "      <td>...</td>\n",
              "      <td>...</td>\n",
              "      <td>...</td>\n",
              "    </tr>\n",
              "    <tr>\n",
              "      <th>83493</th>\n",
              "      <td>1681322</td>\n",
              "      <td>Nope</td>\n",
              "      <td>2008</td>\n",
              "      <td>8</td>\n",
              "      <td>8</td>\n",
              "      <td>1</td>\n",
              "      <td>4</td>\n",
              "      <td>10.791239</td>\n",
              "      <td>24</td>\n",
              "      <td>5</td>\n",
              "      <td>8</td>\n",
              "      <td>1</td>\n",
              "      <td>1</td>\n",
              "      <td>1</td>\n",
              "      <td>10.807666</td>\n",
              "      <td>1</td>\n",
              "      <td>0</td>\n",
              "      <td>6</td>\n",
              "      <td>3</td>\n",
              "      <td>1</td>\n",
              "      <td>0</td>\n",
              "      <td>1</td>\n",
              "      <td>3</td>\n",
              "    </tr>\n",
              "    <tr>\n",
              "      <th>83494</th>\n",
              "      <td>1681325</td>\n",
              "      <td>Nope</td>\n",
              "      <td>2003</td>\n",
              "      <td>10</td>\n",
              "      <td>16</td>\n",
              "      <td>1</td>\n",
              "      <td>4</td>\n",
              "      <td>15.618754</td>\n",
              "      <td>49</td>\n",
              "      <td>6</td>\n",
              "      <td>5</td>\n",
              "      <td>1</td>\n",
              "      <td>1</td>\n",
              "      <td>2</td>\n",
              "      <td>15.618754</td>\n",
              "      <td>1</td>\n",
              "      <td>2</td>\n",
              "      <td>9</td>\n",
              "      <td>3</td>\n",
              "      <td>4</td>\n",
              "      <td>1</td>\n",
              "      <td>1</td>\n",
              "      <td>1</td>\n",
              "    </tr>\n",
              "    <tr>\n",
              "      <th>83495</th>\n",
              "      <td>1681326</td>\n",
              "      <td>Nope</td>\n",
              "      <td>2003</td>\n",
              "      <td>5</td>\n",
              "      <td>28</td>\n",
              "      <td>2</td>\n",
              "      <td>2</td>\n",
              "      <td>16.005476</td>\n",
              "      <td>521</td>\n",
              "      <td>2</td>\n",
              "      <td>4</td>\n",
              "      <td>1</td>\n",
              "      <td>1</td>\n",
              "      <td>2</td>\n",
              "      <td>16.005476</td>\n",
              "      <td>1</td>\n",
              "      <td>7</td>\n",
              "      <td>2</td>\n",
              "      <td>7</td>\n",
              "      <td>5</td>\n",
              "      <td>2</td>\n",
              "      <td>1</td>\n",
              "      <td>5</td>\n",
              "    </tr>\n",
              "    <tr>\n",
              "      <th>83496</th>\n",
              "      <td>1681327</td>\n",
              "      <td>Nope</td>\n",
              "      <td>2005</td>\n",
              "      <td>1</td>\n",
              "      <td>23</td>\n",
              "      <td>2</td>\n",
              "      <td>2</td>\n",
              "      <td>14.347707</td>\n",
              "      <td>40</td>\n",
              "      <td>6</td>\n",
              "      <td>5</td>\n",
              "      <td>1</td>\n",
              "      <td>1</td>\n",
              "      <td>1</td>\n",
              "      <td>14.350445</td>\n",
              "      <td>1</td>\n",
              "      <td>4</td>\n",
              "      <td>7</td>\n",
              "      <td>5</td>\n",
              "      <td>3</td>\n",
              "      <td>5</td>\n",
              "      <td>2</td>\n",
              "      <td>2</td>\n",
              "    </tr>\n",
              "    <tr>\n",
              "      <th>83497</th>\n",
              "      <td>1681355</td>\n",
              "      <td>Nope</td>\n",
              "      <td>2006</td>\n",
              "      <td>8</td>\n",
              "      <td>15</td>\n",
              "      <td>1</td>\n",
              "      <td>2</td>\n",
              "      <td>12.791239</td>\n",
              "      <td>103</td>\n",
              "      <td>2</td>\n",
              "      <td>7</td>\n",
              "      <td>1</td>\n",
              "      <td>1</td>\n",
              "      <td>1</td>\n",
              "      <td>12.791239</td>\n",
              "      <td>1</td>\n",
              "      <td>0</td>\n",
              "      <td>0</td>\n",
              "      <td>1</td>\n",
              "      <td>0</td>\n",
              "      <td>0</td>\n",
              "      <td>0</td>\n",
              "      <td>0</td>\n",
              "    </tr>\n",
              "  </tbody>\n",
              "</table>\n",
              "<p>83498 rows × 23 columns</p>\n",
              "</div>"
            ],
            "text/plain": [
              "           PID JDOF_reoffense  IIBY___  IIBM___  ...  JDMYSC  JDMYSI  JDMYTD  JDMYTE\n",
              "0      1578461           Nope     1990        3  ...       2       0       0       0\n",
              "1      1583858           Nope     1990        9  ...       1       0       0       0\n",
              "2      1585839            Yep     1991        3  ...       4       4       0       1\n",
              "3      1585839           Nope     1991        3  ...       0       0       0       0\n",
              "4      1595211            Yep     1991       10  ...       3       1       0       3\n",
              "...        ...            ...      ...      ...  ...     ...     ...     ...     ...\n",
              "83493  1681322           Nope     2008        8  ...       1       0       1       3\n",
              "83494  1681325           Nope     2003       10  ...       4       1       1       1\n",
              "83495  1681326           Nope     2003        5  ...       5       2       1       5\n",
              "83496  1681327           Nope     2005        1  ...       3       5       2       2\n",
              "83497  1681355           Nope     2006        8  ...       0       0       0       0\n",
              "\n",
              "[83498 rows x 23 columns]"
            ]
          },
          "metadata": {
            "tags": []
          },
          "execution_count": 26
        }
      ]
    },
    {
      "cell_type": "code",
      "metadata": {
        "id": "P7dT0qb7Xzzi"
      },
      "source": [
        "class_type = ['Yep', 'Nope']"
      ],
      "execution_count": null,
      "outputs": []
    },
    {
      "cell_type": "code",
      "metadata": {
        "id": "MVOjL-1GTHKk"
      },
      "source": [
        "def output(n , k = class_type):\n",
        "  a = (np.zeros([1, len(k)]))\n",
        "  a[0, n - 1] = 1\n",
        "  return a"
      ],
      "execution_count": null,
      "outputs": []
    },
    {
      "cell_type": "code",
      "metadata": {
        "id": "UXDj5kF6UNzs"
      },
      "source": [
        "np.random.seed(123)\n",
        "\n",
        "for index, value in enumerate(class_type):\n",
        "  exec(\"CL{x} = df_a[df_a['JDOF_reoffense'] == '{y}']\".format(x = index + 1, y = value))\n",
        "  exec(\"X_CL{x} = CL{x}.drop(['PID', 'JDOF_reoffense'], axis = 'columns', inplace = False).astype(float)\".format(x = index + 1))\n",
        "  exec('Y_CL{x} = np.repeat(a = output({x}), repeats = len(CL{x}.index), axis = 0)'.format(x = index + 1))\n",
        "  exec('pd_CL{x} = np.random.choice(a = 2, size = len(CL{x}.index), replace = True, p = [0.70, 0.30])'.format(x = index + 1))\n",
        "  exec('train_CL{x} = CL{x}.loc[pd_CL{x} == 0]'.format(x = index + 1))\n",
        "  exec('test_CL{x} = CL{x}.loc[pd_CL{x} == 1]'.format(x = index + 1))\n",
        "  exec('Y_train_CL{x} = Y_CL{x}[1: (train_CL{x}.shape[0] + 1), :]'.format(x = index + 1))\n",
        "  exec('Y_test_CL{x} = Y_CL{x}[1: (test_CL{x}.shape[0] + 1), :]'.format(x = index + 1))"
      ],
      "execution_count": null,
      "outputs": []
    },
    {
      "cell_type": "code",
      "metadata": {
        "id": "Rp1_RSMZTHPm"
      },
      "source": [
        "for value in ['train', 'test']:\n",
        "  exec(\"X_{x} = pd.concat([{x}_CL1, {x}_CL2], axis = 0).drop(['PID', 'JDOF_reoffense'], axis = 'columns', inplace = False)\".format(x = value))\n",
        "  exec(\"y_{x} = pd.concat([{x}_CL1, {x}_CL2], axis = 0).loc[:, 'JDOF_reoffense']\".format(x = value))\n",
        "  exec('Y_{x} = np.concatenate([Y_{x}_CL1, Y_{x}_CL2], axis = 0)'.format(x = value))\n",
        "\n",
        "# np.random.seed(123)\n",
        "pd_X_train = np.random.choice(X_train.shape[0], size = X_train.shape[0], replace = False, p = None)\n",
        "X_train = np.array(X_train.iloc[pd_X_train, ])\n",
        "Y_train = Y_train[pd_X_train]\n",
        "\n",
        "pd_X_test = np.random.choice(X_test.shape[0], size = X_test.shape[0], replace = False, p = None)\n",
        "X_test = np.array(X_test.iloc[pd_X_test, ])\n",
        "Y_test = Y_test[pd_X_test]"
      ],
      "execution_count": null,
      "outputs": []
    },
    {
      "cell_type": "code",
      "metadata": {
        "colab": {
          "base_uri": "https://localhost:8080/"
        },
        "id": "gkW8dpE1aYvs",
        "outputId": "4ccebb93-8980-4740-eeb3-9bdb203400a1"
      },
      "source": [
        "X_train"
      ],
      "execution_count": null,
      "outputs": [
        {
          "output_type": "execute_result",
          "data": {
            "text/plain": [
              "array([[ 1.996e+03,  1.000e+00,  1.500e+01, ...,  0.000e+00,  0.000e+00,\n",
              "         0.000e+00],\n",
              "       [ 1.989e+03,  1.100e+01,  1.000e+00, ..., -1.000e+00, -1.000e+00,\n",
              "        -1.000e+00],\n",
              "       [ 1.997e+03,  1.000e+00,  1.500e+01, ..., -1.000e+00, -1.000e+00,\n",
              "        -1.000e+00],\n",
              "       ...,\n",
              "       [ 2.001e+03,  9.000e+00,  2.700e+01, ...,  1.000e+00,  1.000e+00,\n",
              "         2.000e+00],\n",
              "       [ 1.994e+03,  5.000e+00,  2.400e+01, ...,  0.000e+00,  0.000e+00,\n",
              "         2.000e+00],\n",
              "       [ 1.994e+03,  3.000e+00,  3.000e+01, ...,  1.000e+00,  1.000e+00,\n",
              "         2.000e+00]])"
            ]
          },
          "metadata": {
            "tags": []
          },
          "execution_count": 31
        }
      ]
    },
    {
      "cell_type": "code",
      "metadata": {
        "colab": {
          "base_uri": "https://localhost:8080/"
        },
        "id": "M-1_5oW4THSu",
        "outputId": "10387a8c-efed-4d70-b15a-2f79e917e227"
      },
      "source": [
        "print(Y_train.shape, Y_test.shape)\n",
        "print(train_CL1.shape, train_CL2.shape)\n",
        "print(Y_train_CL1.shape, Y_train_CL2.shape)\n",
        "print(test_CL1.shape, test_CL2.shape)\n",
        "print(Y_test_CL1.shape, Y_test_CL2.shape)\n",
        "print(X_train.shape, X_test.shape, Y_train.shape, Y_test.shape, y_test.shape)"
      ],
      "execution_count": null,
      "outputs": [
        {
          "output_type": "stream",
          "text": [
            "(58359, 2) (25139, 2)\n",
            "(24146, 23) (34213, 23)\n",
            "(24146, 2) (34213, 2)\n",
            "(10302, 23) (14837, 23)\n",
            "(10302, 2) (14837, 2)\n",
            "(58359, 21) (25139, 21) (58359, 2) (25139, 2) (25139,)\n"
          ],
          "name": "stdout"
        }
      ]
    },
    {
      "cell_type": "code",
      "metadata": {
        "colab": {
          "base_uri": "https://localhost:8080/",
          "height": 419
        },
        "id": "Som_vLzZTP93",
        "outputId": "2e59970a-cd86-4802-cecf-e019d9d2fb30"
      },
      "source": [
        "X = pd.concat([CL1, CL2], axis = 0).drop(['PID', 'JDOF_reoffense'], axis = 'columns', inplace = False)\n",
        "X"
      ],
      "execution_count": null,
      "outputs": [
        {
          "output_type": "execute_result",
          "data": {
            "text/html": [
              "<div>\n",
              "<style scoped>\n",
              "    .dataframe tbody tr th:only-of-type {\n",
              "        vertical-align: middle;\n",
              "    }\n",
              "\n",
              "    .dataframe tbody tr th {\n",
              "        vertical-align: top;\n",
              "    }\n",
              "\n",
              "    .dataframe thead th {\n",
              "        text-align: right;\n",
              "    }\n",
              "</style>\n",
              "<table border=\"1\" class=\"dataframe\">\n",
              "  <thead>\n",
              "    <tr style=\"text-align: right;\">\n",
              "      <th></th>\n",
              "      <th>IIBY___</th>\n",
              "      <th>IIBM___</th>\n",
              "      <th>IIBD___</th>\n",
              "      <th>IIGE___</th>\n",
              "      <th>IIRA___</th>\n",
              "      <th>JDOF_age</th>\n",
              "      <th>JDOFND</th>\n",
              "      <th>JDOFCT</th>\n",
              "      <th>JDOFSL</th>\n",
              "      <th>JDOF_ordinal</th>\n",
              "      <th>JDDT_convict</th>\n",
              "      <th>JDDT_duration</th>\n",
              "      <th>JDMY_age</th>\n",
              "      <th>JDMYA</th>\n",
              "      <th>JDMYAD</th>\n",
              "      <th>JDMYAI</th>\n",
              "      <th>JDMYDA</th>\n",
              "      <th>JDMYSC</th>\n",
              "      <th>JDMYSI</th>\n",
              "      <th>JDMYTD</th>\n",
              "      <th>JDMYTE</th>\n",
              "    </tr>\n",
              "  </thead>\n",
              "  <tbody>\n",
              "    <tr>\n",
              "      <th>2</th>\n",
              "      <td>1991</td>\n",
              "      <td>3</td>\n",
              "      <td>4</td>\n",
              "      <td>1</td>\n",
              "      <td>3</td>\n",
              "      <td>16.714579</td>\n",
              "      <td>572</td>\n",
              "      <td>8</td>\n",
              "      <td>4</td>\n",
              "      <td>1</td>\n",
              "      <td>0</td>\n",
              "      <td>0</td>\n",
              "      <td>16.933607</td>\n",
              "      <td>1</td>\n",
              "      <td>2</td>\n",
              "      <td>5</td>\n",
              "      <td>3</td>\n",
              "      <td>4</td>\n",
              "      <td>4</td>\n",
              "      <td>0</td>\n",
              "      <td>1</td>\n",
              "    </tr>\n",
              "    <tr>\n",
              "      <th>4</th>\n",
              "      <td>1991</td>\n",
              "      <td>10</td>\n",
              "      <td>1</td>\n",
              "      <td>1</td>\n",
              "      <td>2</td>\n",
              "      <td>14.980151</td>\n",
              "      <td>329</td>\n",
              "      <td>4</td>\n",
              "      <td>4</td>\n",
              "      <td>1</td>\n",
              "      <td>0</td>\n",
              "      <td>0</td>\n",
              "      <td>15.177960</td>\n",
              "      <td>1</td>\n",
              "      <td>0</td>\n",
              "      <td>3</td>\n",
              "      <td>1</td>\n",
              "      <td>3</td>\n",
              "      <td>1</td>\n",
              "      <td>0</td>\n",
              "      <td>3</td>\n",
              "    </tr>\n",
              "    <tr>\n",
              "      <th>5</th>\n",
              "      <td>1991</td>\n",
              "      <td>10</td>\n",
              "      <td>1</td>\n",
              "      <td>1</td>\n",
              "      <td>2</td>\n",
              "      <td>15.405202</td>\n",
              "      <td>602</td>\n",
              "      <td>9</td>\n",
              "      <td>1</td>\n",
              "      <td>2</td>\n",
              "      <td>1</td>\n",
              "      <td>15</td>\n",
              "      <td>15.662560</td>\n",
              "      <td>0</td>\n",
              "      <td>-1</td>\n",
              "      <td>-1</td>\n",
              "      <td>-1</td>\n",
              "      <td>-1</td>\n",
              "      <td>-1</td>\n",
              "      <td>-1</td>\n",
              "      <td>-1</td>\n",
              "    </tr>\n",
              "    <tr>\n",
              "      <th>6</th>\n",
              "      <td>1992</td>\n",
              "      <td>2</td>\n",
              "      <td>22</td>\n",
              "      <td>1</td>\n",
              "      <td>3</td>\n",
              "      <td>14.687201</td>\n",
              "      <td>232</td>\n",
              "      <td>2</td>\n",
              "      <td>6</td>\n",
              "      <td>1</td>\n",
              "      <td>1</td>\n",
              "      <td>2</td>\n",
              "      <td>14.687201</td>\n",
              "      <td>1</td>\n",
              "      <td>0</td>\n",
              "      <td>0</td>\n",
              "      <td>1</td>\n",
              "      <td>1</td>\n",
              "      <td>0</td>\n",
              "      <td>0</td>\n",
              "      <td>0</td>\n",
              "    </tr>\n",
              "    <tr>\n",
              "      <th>7</th>\n",
              "      <td>1992</td>\n",
              "      <td>2</td>\n",
              "      <td>22</td>\n",
              "      <td>1</td>\n",
              "      <td>3</td>\n",
              "      <td>14.769336</td>\n",
              "      <td>521</td>\n",
              "      <td>2</td>\n",
              "      <td>4</td>\n",
              "      <td>2</td>\n",
              "      <td>0</td>\n",
              "      <td>0</td>\n",
              "      <td>14.772074</td>\n",
              "      <td>1</td>\n",
              "      <td>0</td>\n",
              "      <td>0</td>\n",
              "      <td>1</td>\n",
              "      <td>2</td>\n",
              "      <td>0</td>\n",
              "      <td>0</td>\n",
              "      <td>0</td>\n",
              "    </tr>\n",
              "    <tr>\n",
              "      <th>...</th>\n",
              "      <td>...</td>\n",
              "      <td>...</td>\n",
              "      <td>...</td>\n",
              "      <td>...</td>\n",
              "      <td>...</td>\n",
              "      <td>...</td>\n",
              "      <td>...</td>\n",
              "      <td>...</td>\n",
              "      <td>...</td>\n",
              "      <td>...</td>\n",
              "      <td>...</td>\n",
              "      <td>...</td>\n",
              "      <td>...</td>\n",
              "      <td>...</td>\n",
              "      <td>...</td>\n",
              "      <td>...</td>\n",
              "      <td>...</td>\n",
              "      <td>...</td>\n",
              "      <td>...</td>\n",
              "      <td>...</td>\n",
              "      <td>...</td>\n",
              "    </tr>\n",
              "    <tr>\n",
              "      <th>83493</th>\n",
              "      <td>2008</td>\n",
              "      <td>8</td>\n",
              "      <td>8</td>\n",
              "      <td>1</td>\n",
              "      <td>4</td>\n",
              "      <td>10.791239</td>\n",
              "      <td>24</td>\n",
              "      <td>5</td>\n",
              "      <td>8</td>\n",
              "      <td>1</td>\n",
              "      <td>1</td>\n",
              "      <td>1</td>\n",
              "      <td>10.807666</td>\n",
              "      <td>1</td>\n",
              "      <td>0</td>\n",
              "      <td>6</td>\n",
              "      <td>3</td>\n",
              "      <td>1</td>\n",
              "      <td>0</td>\n",
              "      <td>1</td>\n",
              "      <td>3</td>\n",
              "    </tr>\n",
              "    <tr>\n",
              "      <th>83494</th>\n",
              "      <td>2003</td>\n",
              "      <td>10</td>\n",
              "      <td>16</td>\n",
              "      <td>1</td>\n",
              "      <td>4</td>\n",
              "      <td>15.618754</td>\n",
              "      <td>49</td>\n",
              "      <td>6</td>\n",
              "      <td>5</td>\n",
              "      <td>1</td>\n",
              "      <td>1</td>\n",
              "      <td>2</td>\n",
              "      <td>15.618754</td>\n",
              "      <td>1</td>\n",
              "      <td>2</td>\n",
              "      <td>9</td>\n",
              "      <td>3</td>\n",
              "      <td>4</td>\n",
              "      <td>1</td>\n",
              "      <td>1</td>\n",
              "      <td>1</td>\n",
              "    </tr>\n",
              "    <tr>\n",
              "      <th>83495</th>\n",
              "      <td>2003</td>\n",
              "      <td>5</td>\n",
              "      <td>28</td>\n",
              "      <td>2</td>\n",
              "      <td>2</td>\n",
              "      <td>16.005476</td>\n",
              "      <td>521</td>\n",
              "      <td>2</td>\n",
              "      <td>4</td>\n",
              "      <td>1</td>\n",
              "      <td>1</td>\n",
              "      <td>2</td>\n",
              "      <td>16.005476</td>\n",
              "      <td>1</td>\n",
              "      <td>7</td>\n",
              "      <td>2</td>\n",
              "      <td>7</td>\n",
              "      <td>5</td>\n",
              "      <td>2</td>\n",
              "      <td>1</td>\n",
              "      <td>5</td>\n",
              "    </tr>\n",
              "    <tr>\n",
              "      <th>83496</th>\n",
              "      <td>2005</td>\n",
              "      <td>1</td>\n",
              "      <td>23</td>\n",
              "      <td>2</td>\n",
              "      <td>2</td>\n",
              "      <td>14.347707</td>\n",
              "      <td>40</td>\n",
              "      <td>6</td>\n",
              "      <td>5</td>\n",
              "      <td>1</td>\n",
              "      <td>1</td>\n",
              "      <td>1</td>\n",
              "      <td>14.350445</td>\n",
              "      <td>1</td>\n",
              "      <td>4</td>\n",
              "      <td>7</td>\n",
              "      <td>5</td>\n",
              "      <td>3</td>\n",
              "      <td>5</td>\n",
              "      <td>2</td>\n",
              "      <td>2</td>\n",
              "    </tr>\n",
              "    <tr>\n",
              "      <th>83497</th>\n",
              "      <td>2006</td>\n",
              "      <td>8</td>\n",
              "      <td>15</td>\n",
              "      <td>1</td>\n",
              "      <td>2</td>\n",
              "      <td>12.791239</td>\n",
              "      <td>103</td>\n",
              "      <td>2</td>\n",
              "      <td>7</td>\n",
              "      <td>1</td>\n",
              "      <td>1</td>\n",
              "      <td>1</td>\n",
              "      <td>12.791239</td>\n",
              "      <td>1</td>\n",
              "      <td>0</td>\n",
              "      <td>0</td>\n",
              "      <td>1</td>\n",
              "      <td>0</td>\n",
              "      <td>0</td>\n",
              "      <td>0</td>\n",
              "      <td>0</td>\n",
              "    </tr>\n",
              "  </tbody>\n",
              "</table>\n",
              "<p>83498 rows × 21 columns</p>\n",
              "</div>"
            ],
            "text/plain": [
              "       IIBY___  IIBM___  IIBD___  IIGE___  ...  JDMYSC  JDMYSI  JDMYTD  JDMYTE\n",
              "2         1991        3        4        1  ...       4       4       0       1\n",
              "4         1991       10        1        1  ...       3       1       0       3\n",
              "5         1991       10        1        1  ...      -1      -1      -1      -1\n",
              "6         1992        2       22        1  ...       1       0       0       0\n",
              "7         1992        2       22        1  ...       2       0       0       0\n",
              "...        ...      ...      ...      ...  ...     ...     ...     ...     ...\n",
              "83493     2008        8        8        1  ...       1       0       1       3\n",
              "83494     2003       10       16        1  ...       4       1       1       1\n",
              "83495     2003        5       28        2  ...       5       2       1       5\n",
              "83496     2005        1       23        2  ...       3       5       2       2\n",
              "83497     2006        8       15        1  ...       0       0       0       0\n",
              "\n",
              "[83498 rows x 21 columns]"
            ]
          },
          "metadata": {
            "tags": []
          },
          "execution_count": 33
        }
      ]
    },
    {
      "cell_type": "code",
      "metadata": {
        "colab": {
          "base_uri": "https://localhost:8080/"
        },
        "id": "f1mj6qXtTQAq",
        "outputId": "174f2d76-65a7-419c-96d9-943e9d79e0a3"
      },
      "source": [
        "y = pd.concat([CL1, CL2], axis = 0).loc[:, 'JDOF_reoffense']\n",
        "y"
      ],
      "execution_count": null,
      "outputs": [
        {
          "output_type": "execute_result",
          "data": {
            "text/plain": [
              "2         Yep\n",
              "4         Yep\n",
              "5         Yep\n",
              "6         Yep\n",
              "7         Yep\n",
              "         ... \n",
              "83493    Nope\n",
              "83494    Nope\n",
              "83495    Nope\n",
              "83496    Nope\n",
              "83497    Nope\n",
              "Name: JDOF_reoffense, Length: 83498, dtype: object"
            ]
          },
          "metadata": {
            "tags": []
          },
          "execution_count": 34
        }
      ]
    },
    {
      "cell_type": "code",
      "metadata": {
        "colab": {
          "base_uri": "https://localhost:8080/"
        },
        "id": "MXacUQ40TQDU",
        "outputId": "2abea675-0643-40b2-c11f-77d0f17b7ea6"
      },
      "source": [
        "Y = pd.DataFrame(np.concatenate([Y_CL1, Y_CL2], axis = 0))\n",
        "print(len(Y))\n",
        "np.array(Y)"
      ],
      "execution_count": null,
      "outputs": [
        {
          "output_type": "stream",
          "text": [
            "83498\n"
          ],
          "name": "stdout"
        },
        {
          "output_type": "execute_result",
          "data": {
            "text/plain": [
              "array([[1., 0.],\n",
              "       [1., 0.],\n",
              "       [1., 0.],\n",
              "       ...,\n",
              "       [0., 1.],\n",
              "       [0., 1.],\n",
              "       [0., 1.]])"
            ]
          },
          "metadata": {
            "tags": []
          },
          "execution_count": 35
        }
      ]
    },
    {
      "cell_type": "code",
      "metadata": {
        "id": "5P2AXpvITQF1"
      },
      "source": [
        "## split data set into a training set (80%) and a test set (20%)\n",
        "#from sklearn.model_selection import train_test_split\n",
        "#X_train, X_test, Y_train, Y_test = train_test_split(X, Y, test_size = 0.2, random_state = 0)"
      ],
      "execution_count": null,
      "outputs": []
    },
    {
      "cell_type": "code",
      "metadata": {
        "id": "e7p1RMZfgZhT"
      },
      "source": [
        "from sklearn.preprocessing import StandardScaler\n",
        "std_scaler = StandardScaler().fit(X_train)\n",
        "X_train, X_test = std_scaler.transform(X_train), std_scaler.transform(X_test)"
      ],
      "execution_count": null,
      "outputs": []
    },
    {
      "cell_type": "code",
      "metadata": {
        "id": "TSSfminLS2r6"
      },
      "source": [
        "from sklearn import *"
      ],
      "execution_count": null,
      "outputs": []
    },
    {
      "cell_type": "code",
      "metadata": {
        "id": "d4LFCeEbS2u3"
      },
      "source": [
        "def x_pca(df, prop):\n",
        "  # standardized dataset\n",
        "  SX = preprocessing.scale(df) # from sklearn package\n",
        "  # correlation matrix using method of pearson (standard correlation coefficient)\n",
        "  R = df.corr(method = 'pearson').to_numpy()\n",
        "  # D refers to eigenvalues, and W refers to eigenvectors\n",
        "  D, Q = np.linalg.eig(R)\n",
        "  s = abs(np.cumsum(D)/sum(D) - prop)\n",
        "  p = s.tolist().index(sorted(s, reverse = False)[0]) + 1\n",
        "  V = Q[:,0:p]\n",
        "  X_pca = pd.DataFrame(data = np.dot(SX, V), # SX.dot(V)\n",
        "                       index = df.index)\n",
        "  return X_pca"
      ],
      "execution_count": null,
      "outputs": []
    },
    {
      "cell_type": "code",
      "metadata": {
        "id": "JEo4fWrLS2xE"
      },
      "source": [
        "X_pca = x_pca(X, 0.95)\n",
        "pc0 = X_pca.shape[1]\n",
        "for index, value in enumerate(class_type):\n",
        "  exec('X_CL{x}_pca = x_pca(X_CL{x}, 0.99)'.format(x = index + 1))\n",
        "  exec('pc{x} = X_CL{x}_pca.shape[1]'.format(x = index + 1))"
      ],
      "execution_count": null,
      "outputs": []
    },
    {
      "cell_type": "code",
      "metadata": {
        "colab": {
          "base_uri": "https://localhost:8080/"
        },
        "id": "XIcFukgHOUdA",
        "outputId": "e5ed8c96-4714-4089-f9a3-6c628e4f7ad1"
      },
      "source": [
        "h0, h1, h2 = pc0, pc1, pc2\n",
        "hmin, hmax = h0, sum([h1, h2])\n",
        "n_h0, n_hstar = hmin, hmax\n",
        "print(n_h0)\n",
        "print(n_hstar)"
      ],
      "execution_count": null,
      "outputs": [
        {
          "output_type": "stream",
          "text": [
            "17\n",
            "40\n"
          ],
          "name": "stdout"
        }
      ]
    },
    {
      "cell_type": "code",
      "metadata": {
        "id": "VL30BkwyOUfD"
      },
      "source": [
        "n_input, n_output = len(X.columns), len(class_type)"
      ],
      "execution_count": null,
      "outputs": []
    },
    {
      "cell_type": "code",
      "metadata": {
        "colab": {
          "base_uri": "https://localhost:8080/"
        },
        "id": "QkKLQYmBOUhc",
        "outputId": "560c83ad-3033-473d-ecf9-fda4e2ea9466"
      },
      "source": [
        "print(n_input, n_output)"
      ],
      "execution_count": null,
      "outputs": [
        {
          "output_type": "stream",
          "text": [
            "21 2\n"
          ],
          "name": "stdout"
        }
      ]
    },
    {
      "cell_type": "code",
      "metadata": {
        "colab": {
          "base_uri": "https://localhost:8080/"
        },
        "id": "Jqs1yKaYOUkC",
        "outputId": "48c8eed6-9d57-4c0c-e874-c825f427a487"
      },
      "source": [
        "n_batch = int((X_train.shape[0])**0.5)\n",
        "n_batch"
      ],
      "execution_count": null,
      "outputs": [
        {
          "output_type": "execute_result",
          "data": {
            "text/plain": [
              "241"
            ]
          },
          "metadata": {
            "tags": []
          },
          "execution_count": 44
        }
      ]
    },
    {
      "cell_type": "code",
      "metadata": {
        "colab": {
          "base_uri": "https://localhost:8080/"
        },
        "id": "FECXecqLeX9Y",
        "outputId": "0164da6f-83c2-4369-d71b-f9ddeea8a4fa"
      },
      "source": [
        "n_epoch = 200\n",
        "n_epoch"
      ],
      "execution_count": null,
      "outputs": [
        {
          "output_type": "execute_result",
          "data": {
            "text/plain": [
              "200"
            ]
          },
          "metadata": {
            "tags": []
          },
          "execution_count": 45
        }
      ]
    },
    {
      "cell_type": "code",
      "metadata": {
        "id": "6_mcLcKSOUmm"
      },
      "source": [
        "import tensorflow as tf\n",
        "from tensorflow.keras.models import Sequential\n",
        "from tensorflow import keras\n",
        "from tensorflow.keras.layers import Dense, Activation\n",
        "from tensorflow.keras import optimizers, losses\n",
        "from tensorflow.keras import callbacks\n",
        "from tensorflow.keras import regularizers"
      ],
      "execution_count": null,
      "outputs": []
    },
    {
      "cell_type": "code",
      "metadata": {
        "colab": {
          "base_uri": "https://localhost:8080/"
        },
        "id": "6qnvfV_RziAf",
        "outputId": "6795826c-9314-4354-99a5-5da323e4746c"
      },
      "source": [
        "import datetime as dt\n",
        "file_dir = \"best_model_\" + dt.datetime.now().strftime(\"%Y%m%d-%H%M%S\")\n",
        "\n",
        "n_hidden = [n_hstar]\n",
        "for index, value in enumerate(n_hidden):\n",
        "\n",
        "  exec('model_{y} = Sequential()'.format(y = index + 1))\n",
        "\n",
        "  exec('model_{y}.add(keras.layers.InputLayer(input_shape = n_input))'.format(y = index + 1))\n",
        "\n",
        "  exec('model_{y}.add( keras.layers.Dropout(rate = 0.4) )'.format(y = index + 1))\n",
        "\n",
        "  exec(\"model_{y}.add(Dense(units = {x}, activation = 'relu', kernel_initializer = 'he_normal'))\".format(x = value, y = index + 1))\n",
        "\n",
        "  exec('model_{y}.add( keras.layers.Dropout(rate = 0.4) )'.format(y = index + 1))\n",
        "\n",
        "  exec(\"model_{y}.add(Dense(units = n_input * 2 // 3 + n_output, activation = 'sigmoid', kernel_initializer = 'he_normal'))\".format(x = value, y = index + 1))\n",
        "\n",
        "  exec('model_{y}.add( keras.layers.Dropout(rate = 0.2) )'.format(y = index + 1))\n",
        "  \n",
        "  exec('model_{y}.add(Dense(units = n_output))'.format(y = index + 1))\n",
        "\n",
        "  exec(\"model_{y}.add(Activation('softmax'))\".format(y = index + 1))\n",
        "\n",
        "  from tensorflow.keras import optimizers, losses\n",
        "  opt = optimizers.Adam(learning_rate = 1e-3, decay = 1e-7)\n",
        "  #opt = optimizers.Adam()\n",
        "  loss_fn = losses.CategoricalCrossentropy()\n",
        "\n",
        "  exec(\"model_{y}.compile(loss = loss_fn, optimizer = opt, metrics = ['accuracy'])\".format(y = index + 1))\n",
        "\n",
        "  from tensorflow.keras.callbacks import ModelCheckpoint\n",
        "  exec(\"checkpointer_{y} = ModelCheckpoint(filepath = file_dir, monitor = 'val_accuracy', save_best_only = True)\".format(y = index + 1)) \n",
        "\n",
        "  from tensorflow.keras import callbacks\n",
        "  # for recording training loss over the whole training set at the end of each epoch\n",
        "  class MyHistory(callbacks.Callback):\n",
        "    def on_train_begin(self, logs = None):\n",
        "      self.gradient = []\n",
        "      self.gradsNorm = []\n",
        "      self.batch_loss = []\n",
        "      self.epoch_loss = []\n",
        "      self.epoch_accuracy = [] \n",
        "    def on_epoch_end(self, epoch, logs = None):\n",
        "      with tf.GradientTape() as tape:\n",
        "        exec('Y_batch_pred_{y} = model_{y}(X_train, training = True)'.format(y = index + 1))\n",
        "        exec('loss_val_{y} = loss_fn(Y_train,Y_batch_pred_{y})'.format(y = index + 1))\n",
        "      exec('grads_{y} = tape.gradient(loss_val_{y}, model_{y}.trainable_weights)'.format(y = index + 1))\n",
        "      exec('self.gradsNorm.append(np.sqrt(sum([np.sum(np.square(g.numpy())) for g in grads_{y}])))'.format(y = index + 1))\n",
        "      exec('self.gradient.append(grads_{y})'.format(y = index + 1))\n",
        "      exec('self.batch_loss.append(loss_val_{y}.numpy())'.format(y = index + 1))\n",
        "      exec('epoch_loss_value_{y} = model_{y}.evaluate(X_train, Y_train, verbose = 1)[0]'.format(y = index + 1))\n",
        "      exec('self.epoch_loss.append(epoch_loss_value_{y})'.format(y = index + 1))\n",
        "      exec('epoch_accuracy_value_{y} = model_{y}.evaluate(X_train, Y_train, verbose = 0)[1]'.format(y = index + 1))\n",
        "      exec('self.epoch_accuracy.append(epoch_accuracy_value_{y})'.format(y = index + 1))\n",
        "  exec(\"MyMonitor_{y} = MyHistory()\".format(y = index + 1))\n",
        "\n",
        "  exec('Monitor_{y} = model_{y}.fit(x = X_train, y = Y_train, batch_size = n_batch, epochs = n_epoch, validation_data = (X_test, Y_test), callbacks = [checkpointer_{y}, MyMonitor_{y}], shuffle = True)'.format(y = index + 1))\n",
        "\n",
        "  from tensorflow.keras.models import load_model\n",
        "  exec(\"trained_model_{y} = load_model(file_dir)\".format(y = index + 1))\n",
        "\n",
        "  exec('Y_pred_train_{y} = trained_model_{y}.predict(X_train)'.format(y = index + 1))\n",
        "  exec('Y_pred_test_{y} = trained_model_{y}.predict(X_test)'.format(y = index + 1))\n",
        "\n",
        "  exec('Ylabel_train_{y} = np.argmax(np.array(Y_train), axis = 1)'.format(y = index + 1))\n",
        "  exec('Ylabel_test_{y} = np.argmax(np.array(Y_test), axis = 1)'.format(y = index + 1))\n",
        "\n",
        "  exec('Ypredlabel_train_{y} = np.argmax(Y_pred_train_{y}, axis = 1)'.format(y = index + 1))\n",
        "  exec('Ypredlabel_test_{y} = np.argmax(Y_pred_test_{y}, axis = 1)'.format(y = index + 1))\n",
        "\n",
        "  exec('training_loss_{y} = MyMonitor_{y}.epoch_loss'.format(y = index + 1))\n",
        "  exec(\"validation_loss_{y} = Monitor_{y}.history['val_loss']\".format(y = index + 1))\n",
        "  exec('batch_loss_{y} = MyMonitor_{y}.batch_loss'.format(y = index + 1))\n",
        "  exec('training_accuracy_{y} = MyMonitor_{y}.epoch_accuracy'.format(y = index + 1))\n",
        "  exec(\"validation_accuracy_{y} = Monitor_{y}.history['val_accuracy']\".format(y = index + 1))\n",
        "  exec(\"grads_N_{y} = MyMonitor_{y}.gradsNorm\".format(y = index + 1))\n",
        "\n",
        "  exec('last_epoch = len(pd.DataFrame(Monitor_{y}.history).index)'.format(y = index + 1))\n",
        "\n",
        "  from sklearn import svm, datasets\n",
        "  from sklearn.model_selection import train_test_split\n",
        "  from sklearn.metrics import confusion_matrix\n",
        "  from sklearn.utils.multiclass import unique_labels\n",
        "  exec('cm_train_{y} = confusion_matrix(Ylabel_train_{y}, Ypredlabel_train_{y})'.format(y = index + 1))\n",
        "  exec('cm_test_{y} = confusion_matrix(Ylabel_test_{y}, Ypredlabel_test_{y})'.format(y = index + 1)) \n",
        "\n",
        "  exec('trainperf_{y} = np.sum(np.diag(cm_train_{y})) / np.sum(cm_train_{y})'.format(y = index + 1)) # total percentage of correct classifications for train set\n",
        "  exec('testperf_{y} = np.sum(np.diag(cm_test_{y})) / np.sum(cm_test_{y})'.format(y = index + 1)) # total percentage of correct classifications for test set\n",
        "\n",
        "for index, value in enumerate(n_hidden):\n",
        "  exec(\"monitor_{y} = pd.concat([pd.DataFrame(training_loss_{y}, columns = ['train_loss']), pd.DataFrame(validation_loss_{y}, columns = ['val_loss']), pd.DataFrame(training_accuracy_{y}, columns = ['train_accuracy']), pd.DataFrame(validation_accuracy_{y}, columns = ['val_accuracy'])], axis = 1)\".format(y = index + 1))\n",
        "  exec(\"monitor_{y}.to_csv(base_folder + file_dir + '/monitor_{y}.csv')\".format(y = index + 1))\n",
        "\n",
        "\n",
        "for j in ['X', 'Y']:\n",
        "  for i in ['train', 'test']:\n",
        "    exec(\"pd.DataFrame({y}_{x}).to_csv(base_folder + file_dir + '/{y}_{x}.csv', index = False)\".format(x = i, y = j))"
      ],
      "execution_count": null,
      "outputs": [
        {
          "output_type": "stream",
          "text": [
            "Epoch 1/200\n",
            "243/243 [==============================] - 2s 4ms/step - loss: 0.6807 - accuracy: 0.5860 - val_loss: 0.6135 - val_accuracy: 0.6672\n",
            "INFO:tensorflow:Assets written to: best_model_20210723-223457/assets\n",
            "1824/1824 [==============================] - 3s 2ms/step - loss: 0.6128 - accuracy: 0.6680\n",
            "Epoch 2/200\n",
            "243/243 [==============================] - 1s 3ms/step - loss: 0.6450 - accuracy: 0.6242 - val_loss: 0.5985 - val_accuracy: 0.6794\n",
            "INFO:tensorflow:Assets written to: best_model_20210723-223457/assets\n",
            "1824/1824 [==============================] - 3s 2ms/step - loss: 0.5976 - accuracy: 0.6828\n",
            "Epoch 3/200\n",
            "243/243 [==============================] - 1s 3ms/step - loss: 0.6359 - accuracy: 0.6321 - val_loss: 0.5947 - val_accuracy: 0.6852\n",
            "INFO:tensorflow:Assets written to: best_model_20210723-223457/assets\n",
            "1824/1824 [==============================] - 3s 2ms/step - loss: 0.5938 - accuracy: 0.6890\n",
            "Epoch 4/200\n",
            "243/243 [==============================] - 1s 3ms/step - loss: 0.6300 - accuracy: 0.6407 - val_loss: 0.5881 - val_accuracy: 0.6883\n",
            "INFO:tensorflow:Assets written to: best_model_20210723-223457/assets\n",
            "1824/1824 [==============================] - 3s 2ms/step - loss: 0.5871 - accuracy: 0.6927\n",
            "Epoch 5/200\n",
            "243/243 [==============================] - 1s 4ms/step - loss: 0.6255 - accuracy: 0.6473 - val_loss: 0.5868 - val_accuracy: 0.6926\n",
            "INFO:tensorflow:Assets written to: best_model_20210723-223457/assets\n",
            "1824/1824 [==============================] - 3s 2ms/step - loss: 0.5857 - accuracy: 0.6953\n",
            "Epoch 6/200\n",
            "243/243 [==============================] - 1s 3ms/step - loss: 0.6234 - accuracy: 0.6502 - val_loss: 0.5844 - val_accuracy: 0.6978\n",
            "INFO:tensorflow:Assets written to: best_model_20210723-223457/assets\n",
            "1824/1824 [==============================] - 3s 2ms/step - loss: 0.5834 - accuracy: 0.7000\n",
            "Epoch 7/200\n",
            "243/243 [==============================] - 1s 4ms/step - loss: 0.6224 - accuracy: 0.6519 - val_loss: 0.5832 - val_accuracy: 0.7011\n",
            "INFO:tensorflow:Assets written to: best_model_20210723-223457/assets\n",
            "1824/1824 [==============================] - 3s 2ms/step - loss: 0.5823 - accuracy: 0.7019\n",
            "Epoch 8/200\n",
            "243/243 [==============================] - 1s 3ms/step - loss: 0.6186 - accuracy: 0.6571 - val_loss: 0.5806 - val_accuracy: 0.7033\n",
            "INFO:tensorflow:Assets written to: best_model_20210723-223457/assets\n",
            "1824/1824 [==============================] - 3s 2ms/step - loss: 0.5797 - accuracy: 0.7034\n",
            "Epoch 9/200\n",
            "243/243 [==============================] - 1s 3ms/step - loss: 0.6189 - accuracy: 0.6548 - val_loss: 0.5790 - val_accuracy: 0.7049\n",
            "INFO:tensorflow:Assets written to: best_model_20210723-223457/assets\n",
            "1824/1824 [==============================] - 3s 2ms/step - loss: 0.5781 - accuracy: 0.7054\n",
            "Epoch 10/200\n",
            "243/243 [==============================] - 1s 3ms/step - loss: 0.6178 - accuracy: 0.6570 - val_loss: 0.5784 - val_accuracy: 0.7074\n",
            "INFO:tensorflow:Assets written to: best_model_20210723-223457/assets\n",
            "1824/1824 [==============================] - 3s 2ms/step - loss: 0.5777 - accuracy: 0.7074\n",
            "Epoch 11/200\n",
            "243/243 [==============================] - 1s 3ms/step - loss: 0.6161 - accuracy: 0.6602 - val_loss: 0.5768 - val_accuracy: 0.7067\n",
            "1824/1824 [==============================] - 3s 2ms/step - loss: 0.5764 - accuracy: 0.7076\n",
            "Epoch 12/200\n",
            "243/243 [==============================] - 1s 3ms/step - loss: 0.6153 - accuracy: 0.6589 - val_loss: 0.5762 - val_accuracy: 0.7079\n",
            "INFO:tensorflow:Assets written to: best_model_20210723-223457/assets\n",
            "1824/1824 [==============================] - 3s 2ms/step - loss: 0.5761 - accuracy: 0.7086\n",
            "Epoch 13/200\n",
            "243/243 [==============================] - 1s 4ms/step - loss: 0.6153 - accuracy: 0.6602 - val_loss: 0.5759 - val_accuracy: 0.7077\n",
            "1824/1824 [==============================] - 3s 2ms/step - loss: 0.5756 - accuracy: 0.7081\n",
            "Epoch 14/200\n",
            "243/243 [==============================] - 1s 3ms/step - loss: 0.6138 - accuracy: 0.6610 - val_loss: 0.5746 - val_accuracy: 0.7081\n",
            "INFO:tensorflow:Assets written to: best_model_20210723-223457/assets\n",
            "1824/1824 [==============================] - 3s 2ms/step - loss: 0.5744 - accuracy: 0.7082\n",
            "Epoch 15/200\n",
            "243/243 [==============================] - 1s 3ms/step - loss: 0.6132 - accuracy: 0.6648 - val_loss: 0.5746 - val_accuracy: 0.7093\n",
            "INFO:tensorflow:Assets written to: best_model_20210723-223457/assets\n",
            "1824/1824 [==============================] - 3s 2ms/step - loss: 0.5745 - accuracy: 0.7093\n",
            "Epoch 16/200\n",
            "243/243 [==============================] - 1s 3ms/step - loss: 0.6123 - accuracy: 0.6649 - val_loss: 0.5730 - val_accuracy: 0.7090\n",
            "1824/1824 [==============================] - 3s 2ms/step - loss: 0.5729 - accuracy: 0.7106\n",
            "Epoch 17/200\n",
            "243/243 [==============================] - 1s 3ms/step - loss: 0.6131 - accuracy: 0.6631 - val_loss: 0.5734 - val_accuracy: 0.7093\n",
            "1824/1824 [==============================] - 3s 2ms/step - loss: 0.5733 - accuracy: 0.7096\n",
            "Epoch 18/200\n",
            "243/243 [==============================] - 1s 3ms/step - loss: 0.6125 - accuracy: 0.6657 - val_loss: 0.5724 - val_accuracy: 0.7091\n",
            "1824/1824 [==============================] - 3s 2ms/step - loss: 0.5721 - accuracy: 0.7098\n",
            "Epoch 19/200\n",
            "243/243 [==============================] - 1s 3ms/step - loss: 0.6105 - accuracy: 0.6664 - val_loss: 0.5725 - val_accuracy: 0.7094\n",
            "INFO:tensorflow:Assets written to: best_model_20210723-223457/assets\n",
            "1824/1824 [==============================] - 3s 2ms/step - loss: 0.5721 - accuracy: 0.7105\n",
            "Epoch 20/200\n",
            "243/243 [==============================] - 1s 3ms/step - loss: 0.6109 - accuracy: 0.6655 - val_loss: 0.5728 - val_accuracy: 0.7081\n",
            "1824/1824 [==============================] - 3s 2ms/step - loss: 0.5725 - accuracy: 0.7098\n",
            "Epoch 21/200\n",
            "243/243 [==============================] - 1s 3ms/step - loss: 0.6116 - accuracy: 0.6669 - val_loss: 0.5727 - val_accuracy: 0.7090\n",
            "1824/1824 [==============================] - 3s 2ms/step - loss: 0.5725 - accuracy: 0.7102\n",
            "Epoch 22/200\n",
            "243/243 [==============================] - 1s 3ms/step - loss: 0.6131 - accuracy: 0.6617 - val_loss: 0.5747 - val_accuracy: 0.7095\n",
            "INFO:tensorflow:Assets written to: best_model_20210723-223457/assets\n",
            "1824/1824 [==============================] - 3s 2ms/step - loss: 0.5745 - accuracy: 0.7111\n",
            "Epoch 23/200\n",
            "243/243 [==============================] - 1s 3ms/step - loss: 0.6112 - accuracy: 0.6639 - val_loss: 0.5723 - val_accuracy: 0.7101\n",
            "INFO:tensorflow:Assets written to: best_model_20210723-223457/assets\n",
            "1824/1824 [==============================] - 3s 2ms/step - loss: 0.5720 - accuracy: 0.7106\n",
            "Epoch 24/200\n",
            "243/243 [==============================] - 1s 3ms/step - loss: 0.6142 - accuracy: 0.6592 - val_loss: 0.5743 - val_accuracy: 0.7088\n",
            "1824/1824 [==============================] - 3s 2ms/step - loss: 0.5741 - accuracy: 0.7095\n",
            "Epoch 25/200\n",
            "243/243 [==============================] - 1s 3ms/step - loss: 0.6106 - accuracy: 0.6660 - val_loss: 0.5735 - val_accuracy: 0.7110\n",
            "INFO:tensorflow:Assets written to: best_model_20210723-223457/assets\n",
            "1824/1824 [==============================] - 3s 2ms/step - loss: 0.5732 - accuracy: 0.7115\n",
            "Epoch 26/200\n",
            "243/243 [==============================] - 1s 4ms/step - loss: 0.6102 - accuracy: 0.6683 - val_loss: 0.5739 - val_accuracy: 0.7085\n",
            "1824/1824 [==============================] - 3s 2ms/step - loss: 0.5737 - accuracy: 0.7099\n",
            "Epoch 27/200\n",
            "243/243 [==============================] - 1s 3ms/step - loss: 0.6100 - accuracy: 0.6682 - val_loss: 0.5716 - val_accuracy: 0.7087\n",
            "1824/1824 [==============================] - 3s 2ms/step - loss: 0.5713 - accuracy: 0.7108\n",
            "Epoch 28/200\n",
            "243/243 [==============================] - 1s 3ms/step - loss: 0.6083 - accuracy: 0.6669 - val_loss: 0.5698 - val_accuracy: 0.7097\n",
            "1824/1824 [==============================] - 3s 2ms/step - loss: 0.5693 - accuracy: 0.7110\n",
            "Epoch 29/200\n",
            "243/243 [==============================] - 1s 3ms/step - loss: 0.6103 - accuracy: 0.6646 - val_loss: 0.5729 - val_accuracy: 0.7092\n",
            "1824/1824 [==============================] - 3s 2ms/step - loss: 0.5724 - accuracy: 0.7111\n",
            "Epoch 30/200\n",
            "243/243 [==============================] - 1s 3ms/step - loss: 0.6100 - accuracy: 0.6646 - val_loss: 0.5717 - val_accuracy: 0.7109\n",
            "1824/1824 [==============================] - 3s 2ms/step - loss: 0.5714 - accuracy: 0.7119\n",
            "Epoch 31/200\n",
            "243/243 [==============================] - 1s 3ms/step - loss: 0.6113 - accuracy: 0.6659 - val_loss: 0.5713 - val_accuracy: 0.7111\n",
            "INFO:tensorflow:Assets written to: best_model_20210723-223457/assets\n",
            "1824/1824 [==============================] - 3s 2ms/step - loss: 0.5710 - accuracy: 0.7127\n",
            "Epoch 32/200\n",
            "243/243 [==============================] - 1s 3ms/step - loss: 0.6101 - accuracy: 0.6668 - val_loss: 0.5711 - val_accuracy: 0.7098\n",
            "1824/1824 [==============================] - 3s 2ms/step - loss: 0.5708 - accuracy: 0.7109\n",
            "Epoch 33/200\n",
            "243/243 [==============================] - 1s 3ms/step - loss: 0.6082 - accuracy: 0.6667 - val_loss: 0.5712 - val_accuracy: 0.7112\n",
            "INFO:tensorflow:Assets written to: best_model_20210723-223457/assets\n",
            "1824/1824 [==============================] - 3s 2ms/step - loss: 0.5710 - accuracy: 0.7119\n",
            "Epoch 34/200\n",
            "243/243 [==============================] - 1s 3ms/step - loss: 0.6110 - accuracy: 0.6666 - val_loss: 0.5747 - val_accuracy: 0.7108\n",
            "1824/1824 [==============================] - 3s 2ms/step - loss: 0.5745 - accuracy: 0.7130\n",
            "Epoch 35/200\n",
            "243/243 [==============================] - 1s 4ms/step - loss: 0.6063 - accuracy: 0.6690 - val_loss: 0.5703 - val_accuracy: 0.7119\n",
            "INFO:tensorflow:Assets written to: best_model_20210723-223457/assets\n",
            "1824/1824 [==============================] - 3s 2ms/step - loss: 0.5700 - accuracy: 0.7139\n",
            "Epoch 36/200\n",
            "243/243 [==============================] - 1s 4ms/step - loss: 0.6075 - accuracy: 0.6700 - val_loss: 0.5724 - val_accuracy: 0.7122\n",
            "INFO:tensorflow:Assets written to: best_model_20210723-223457/assets\n",
            "1824/1824 [==============================] - 3s 2ms/step - loss: 0.5719 - accuracy: 0.7125\n",
            "Epoch 37/200\n",
            "243/243 [==============================] - 1s 3ms/step - loss: 0.6071 - accuracy: 0.6695 - val_loss: 0.5720 - val_accuracy: 0.7114\n",
            "1824/1824 [==============================] - 3s 2ms/step - loss: 0.5716 - accuracy: 0.7124\n",
            "Epoch 38/200\n",
            "243/243 [==============================] - 1s 3ms/step - loss: 0.6087 - accuracy: 0.6660 - val_loss: 0.5711 - val_accuracy: 0.7102\n",
            "1824/1824 [==============================] - 3s 2ms/step - loss: 0.5706 - accuracy: 0.7124\n",
            "Epoch 39/200\n",
            "243/243 [==============================] - 1s 3ms/step - loss: 0.6062 - accuracy: 0.6700 - val_loss: 0.5703 - val_accuracy: 0.7109\n",
            "1824/1824 [==============================] - 3s 2ms/step - loss: 0.5697 - accuracy: 0.7123\n",
            "Epoch 40/200\n",
            "243/243 [==============================] - 1s 3ms/step - loss: 0.6059 - accuracy: 0.6693 - val_loss: 0.5730 - val_accuracy: 0.7105\n",
            "1824/1824 [==============================] - 3s 2ms/step - loss: 0.5724 - accuracy: 0.7117\n",
            "Epoch 41/200\n",
            "243/243 [==============================] - 1s 3ms/step - loss: 0.6072 - accuracy: 0.6680 - val_loss: 0.5746 - val_accuracy: 0.7112\n",
            "1824/1824 [==============================] - 3s 2ms/step - loss: 0.5740 - accuracy: 0.7122\n",
            "Epoch 42/200\n",
            "243/243 [==============================] - 1s 3ms/step - loss: 0.6069 - accuracy: 0.6673 - val_loss: 0.5735 - val_accuracy: 0.7124\n",
            "INFO:tensorflow:Assets written to: best_model_20210723-223457/assets\n",
            "1824/1824 [==============================] - 3s 2ms/step - loss: 0.5728 - accuracy: 0.7142\n",
            "Epoch 43/200\n",
            "243/243 [==============================] - 1s 3ms/step - loss: 0.6074 - accuracy: 0.6667 - val_loss: 0.5744 - val_accuracy: 0.7121\n",
            "1824/1824 [==============================] - 3s 2ms/step - loss: 0.5738 - accuracy: 0.7128\n",
            "Epoch 44/200\n",
            "243/243 [==============================] - 1s 4ms/step - loss: 0.6069 - accuracy: 0.6680 - val_loss: 0.5742 - val_accuracy: 0.7130\n",
            "INFO:tensorflow:Assets written to: best_model_20210723-223457/assets\n",
            "1824/1824 [==============================] - 3s 2ms/step - loss: 0.5737 - accuracy: 0.7129\n",
            "Epoch 45/200\n",
            "243/243 [==============================] - 1s 3ms/step - loss: 0.6051 - accuracy: 0.6679 - val_loss: 0.5724 - val_accuracy: 0.7124\n",
            "1824/1824 [==============================] - 3s 2ms/step - loss: 0.5717 - accuracy: 0.7126\n",
            "Epoch 46/200\n",
            "243/243 [==============================] - 1s 3ms/step - loss: 0.6074 - accuracy: 0.6655 - val_loss: 0.5762 - val_accuracy: 0.7132\n",
            "INFO:tensorflow:Assets written to: best_model_20210723-223457/assets\n",
            "1824/1824 [==============================] - 3s 2ms/step - loss: 0.5755 - accuracy: 0.7131\n",
            "Epoch 47/200\n",
            "243/243 [==============================] - 1s 3ms/step - loss: 0.6055 - accuracy: 0.6694 - val_loss: 0.5749 - val_accuracy: 0.7122\n",
            "1824/1824 [==============================] - 3s 2ms/step - loss: 0.5743 - accuracy: 0.7117\n",
            "Epoch 48/200\n",
            "243/243 [==============================] - 1s 3ms/step - loss: 0.6053 - accuracy: 0.6696 - val_loss: 0.5755 - val_accuracy: 0.7129\n",
            "1824/1824 [==============================] - 3s 2ms/step - loss: 0.5748 - accuracy: 0.7131\n",
            "Epoch 49/200\n",
            "243/243 [==============================] - 1s 3ms/step - loss: 0.6050 - accuracy: 0.6691 - val_loss: 0.5749 - val_accuracy: 0.7129\n",
            "1824/1824 [==============================] - 3s 2ms/step - loss: 0.5744 - accuracy: 0.7136\n",
            "Epoch 50/200\n",
            "243/243 [==============================] - 1s 3ms/step - loss: 0.6057 - accuracy: 0.6684 - val_loss: 0.5745 - val_accuracy: 0.7121\n",
            "1824/1824 [==============================] - 3s 2ms/step - loss: 0.5740 - accuracy: 0.7124\n",
            "Epoch 51/200\n",
            "243/243 [==============================] - 1s 3ms/step - loss: 0.6079 - accuracy: 0.6659 - val_loss: 0.5790 - val_accuracy: 0.7127\n",
            "1824/1824 [==============================] - 3s 2ms/step - loss: 0.5786 - accuracy: 0.7122\n",
            "Epoch 52/200\n",
            "243/243 [==============================] - 1s 3ms/step - loss: 0.6052 - accuracy: 0.6669 - val_loss: 0.5753 - val_accuracy: 0.7136\n",
            "INFO:tensorflow:Assets written to: best_model_20210723-223457/assets\n",
            "1824/1824 [==============================] - 3s 2ms/step - loss: 0.5745 - accuracy: 0.7130\n",
            "Epoch 53/200\n",
            "243/243 [==============================] - 1s 3ms/step - loss: 0.6039 - accuracy: 0.6702 - val_loss: 0.5765 - val_accuracy: 0.7127\n",
            "1824/1824 [==============================] - 3s 2ms/step - loss: 0.5758 - accuracy: 0.7138\n",
            "Epoch 54/200\n",
            "243/243 [==============================] - 1s 3ms/step - loss: 0.6044 - accuracy: 0.6681 - val_loss: 0.5772 - val_accuracy: 0.7113\n",
            "1824/1824 [==============================] - 4s 2ms/step - loss: 0.5768 - accuracy: 0.7123\n",
            "Epoch 55/200\n",
            "243/243 [==============================] - 1s 3ms/step - loss: 0.6041 - accuracy: 0.6688 - val_loss: 0.5769 - val_accuracy: 0.7126\n",
            "1824/1824 [==============================] - 3s 2ms/step - loss: 0.5762 - accuracy: 0.7129\n",
            "Epoch 56/200\n",
            "243/243 [==============================] - 1s 3ms/step - loss: 0.6043 - accuracy: 0.6685 - val_loss: 0.5778 - val_accuracy: 0.7125\n",
            "1824/1824 [==============================] - 3s 2ms/step - loss: 0.5772 - accuracy: 0.7123\n",
            "Epoch 57/200\n",
            "243/243 [==============================] - 1s 3ms/step - loss: 0.6046 - accuracy: 0.6694 - val_loss: 0.5790 - val_accuracy: 0.7124\n",
            "1824/1824 [==============================] - 3s 2ms/step - loss: 0.5783 - accuracy: 0.7134\n",
            "Epoch 58/200\n",
            "243/243 [==============================] - 1s 3ms/step - loss: 0.6046 - accuracy: 0.6686 - val_loss: 0.5771 - val_accuracy: 0.7121\n",
            "1824/1824 [==============================] - 3s 2ms/step - loss: 0.5765 - accuracy: 0.7131\n",
            "Epoch 59/200\n",
            "243/243 [==============================] - 1s 3ms/step - loss: 0.6036 - accuracy: 0.6685 - val_loss: 0.5806 - val_accuracy: 0.7122\n",
            "1824/1824 [==============================] - 3s 2ms/step - loss: 0.5799 - accuracy: 0.7113\n",
            "Epoch 60/200\n",
            "243/243 [==============================] - 1s 3ms/step - loss: 0.6037 - accuracy: 0.6688 - val_loss: 0.5756 - val_accuracy: 0.7143\n",
            "INFO:tensorflow:Assets written to: best_model_20210723-223457/assets\n",
            "1824/1824 [==============================] - 4s 2ms/step - loss: 0.5749 - accuracy: 0.7132\n",
            "Epoch 61/200\n",
            "243/243 [==============================] - 1s 3ms/step - loss: 0.6045 - accuracy: 0.6694 - val_loss: 0.5778 - val_accuracy: 0.7134\n",
            "1824/1824 [==============================] - 4s 2ms/step - loss: 0.5772 - accuracy: 0.7136\n",
            "Epoch 62/200\n",
            "243/243 [==============================] - 1s 3ms/step - loss: 0.6031 - accuracy: 0.6716 - val_loss: 0.5783 - val_accuracy: 0.7131\n",
            "1824/1824 [==============================] - 4s 2ms/step - loss: 0.5776 - accuracy: 0.7135\n",
            "Epoch 63/200\n",
            "243/243 [==============================] - 1s 3ms/step - loss: 0.6030 - accuracy: 0.6696 - val_loss: 0.5807 - val_accuracy: 0.7123\n",
            "1824/1824 [==============================] - 3s 2ms/step - loss: 0.5800 - accuracy: 0.7122\n",
            "Epoch 64/200\n",
            "243/243 [==============================] - 1s 3ms/step - loss: 0.6027 - accuracy: 0.6698 - val_loss: 0.5794 - val_accuracy: 0.7134\n",
            "1824/1824 [==============================] - 3s 2ms/step - loss: 0.5787 - accuracy: 0.7142\n",
            "Epoch 65/200\n",
            "243/243 [==============================] - 1s 3ms/step - loss: 0.6041 - accuracy: 0.6696 - val_loss: 0.5776 - val_accuracy: 0.7125\n",
            "1824/1824 [==============================] - 3s 2ms/step - loss: 0.5769 - accuracy: 0.7125\n",
            "Epoch 66/200\n",
            "243/243 [==============================] - 1s 3ms/step - loss: 0.6058 - accuracy: 0.6682 - val_loss: 0.5805 - val_accuracy: 0.7135\n",
            "1824/1824 [==============================] - 3s 2ms/step - loss: 0.5797 - accuracy: 0.7134\n",
            "Epoch 67/200\n",
            "243/243 [==============================] - 1s 3ms/step - loss: 0.6018 - accuracy: 0.6695 - val_loss: 0.5787 - val_accuracy: 0.7132\n",
            "1824/1824 [==============================] - 3s 2ms/step - loss: 0.5777 - accuracy: 0.7137\n",
            "Epoch 68/200\n",
            "243/243 [==============================] - 1s 3ms/step - loss: 0.6039 - accuracy: 0.6689 - val_loss: 0.5804 - val_accuracy: 0.7122\n",
            "1824/1824 [==============================] - 3s 2ms/step - loss: 0.5795 - accuracy: 0.7129\n",
            "Epoch 69/200\n",
            "243/243 [==============================] - 1s 3ms/step - loss: 0.6033 - accuracy: 0.6710 - val_loss: 0.5764 - val_accuracy: 0.7137\n",
            "1824/1824 [==============================] - 4s 2ms/step - loss: 0.5756 - accuracy: 0.7135\n",
            "Epoch 70/200\n",
            "243/243 [==============================] - 1s 3ms/step - loss: 0.6055 - accuracy: 0.6675 - val_loss: 0.5802 - val_accuracy: 0.7124\n",
            "1824/1824 [==============================] - 4s 2ms/step - loss: 0.5792 - accuracy: 0.7133\n",
            "Epoch 71/200\n",
            "243/243 [==============================] - 1s 3ms/step - loss: 0.6025 - accuracy: 0.6693 - val_loss: 0.5815 - val_accuracy: 0.7126\n",
            "1824/1824 [==============================] - 4s 2ms/step - loss: 0.5804 - accuracy: 0.7126\n",
            "Epoch 72/200\n",
            "243/243 [==============================] - 1s 3ms/step - loss: 0.6007 - accuracy: 0.6726 - val_loss: 0.5815 - val_accuracy: 0.7136\n",
            "1824/1824 [==============================] - 3s 2ms/step - loss: 0.5805 - accuracy: 0.7126\n",
            "Epoch 73/200\n",
            "243/243 [==============================] - 1s 3ms/step - loss: 0.6007 - accuracy: 0.6715 - val_loss: 0.5791 - val_accuracy: 0.7140\n",
            "1824/1824 [==============================] - 3s 2ms/step - loss: 0.5780 - accuracy: 0.7135\n",
            "Epoch 74/200\n",
            "243/243 [==============================] - 1s 3ms/step - loss: 0.6039 - accuracy: 0.6672 - val_loss: 0.5837 - val_accuracy: 0.7116\n",
            "1824/1824 [==============================] - 3s 2ms/step - loss: 0.5827 - accuracy: 0.7116\n",
            "Epoch 75/200\n",
            "243/243 [==============================] - 1s 3ms/step - loss: 0.6013 - accuracy: 0.6721 - val_loss: 0.5808 - val_accuracy: 0.7126\n",
            "1824/1824 [==============================] - 3s 2ms/step - loss: 0.5797 - accuracy: 0.7128\n",
            "Epoch 76/200\n",
            "243/243 [==============================] - 1s 3ms/step - loss: 0.6031 - accuracy: 0.6693 - val_loss: 0.5823 - val_accuracy: 0.7118\n",
            "1824/1824 [==============================] - 4s 2ms/step - loss: 0.5813 - accuracy: 0.7129\n",
            "Epoch 77/200\n",
            "243/243 [==============================] - 1s 3ms/step - loss: 0.6025 - accuracy: 0.6704 - val_loss: 0.5793 - val_accuracy: 0.7144\n",
            "INFO:tensorflow:Assets written to: best_model_20210723-223457/assets\n",
            "1824/1824 [==============================] - 3s 2ms/step - loss: 0.5783 - accuracy: 0.7128\n",
            "Epoch 78/200\n",
            "243/243 [==============================] - 1s 3ms/step - loss: 0.6006 - accuracy: 0.6731 - val_loss: 0.5774 - val_accuracy: 0.7106\n",
            "1824/1824 [==============================] - 3s 2ms/step - loss: 0.5763 - accuracy: 0.7113\n",
            "Epoch 79/200\n",
            "243/243 [==============================] - 1s 3ms/step - loss: 0.6036 - accuracy: 0.6682 - val_loss: 0.5816 - val_accuracy: 0.7134\n",
            "1824/1824 [==============================] - 3s 2ms/step - loss: 0.5806 - accuracy: 0.7123\n",
            "Epoch 80/200\n",
            "243/243 [==============================] - 1s 3ms/step - loss: 0.6027 - accuracy: 0.6700 - val_loss: 0.5816 - val_accuracy: 0.7126\n",
            "1824/1824 [==============================] - 3s 2ms/step - loss: 0.5805 - accuracy: 0.7109\n",
            "Epoch 81/200\n",
            "243/243 [==============================] - 1s 3ms/step - loss: 0.6010 - accuracy: 0.6709 - val_loss: 0.5816 - val_accuracy: 0.7090\n",
            "1824/1824 [==============================] - 3s 2ms/step - loss: 0.5807 - accuracy: 0.7094\n",
            "Epoch 82/200\n",
            "243/243 [==============================] - 1s 3ms/step - loss: 0.6017 - accuracy: 0.6711 - val_loss: 0.5828 - val_accuracy: 0.7123\n",
            "1824/1824 [==============================] - 4s 2ms/step - loss: 0.5819 - accuracy: 0.7114\n",
            "Epoch 83/200\n",
            "243/243 [==============================] - 1s 4ms/step - loss: 0.6019 - accuracy: 0.6702 - val_loss: 0.5815 - val_accuracy: 0.7109\n",
            "1824/1824 [==============================] - 4s 2ms/step - loss: 0.5808 - accuracy: 0.7111\n",
            "Epoch 84/200\n",
            "243/243 [==============================] - 1s 3ms/step - loss: 0.6017 - accuracy: 0.6709 - val_loss: 0.5821 - val_accuracy: 0.7100\n",
            "1824/1824 [==============================] - 4s 2ms/step - loss: 0.5813 - accuracy: 0.7097\n",
            "Epoch 85/200\n",
            "243/243 [==============================] - 1s 4ms/step - loss: 0.6026 - accuracy: 0.6711 - val_loss: 0.5819 - val_accuracy: 0.7090\n",
            "1824/1824 [==============================] - 4s 2ms/step - loss: 0.5810 - accuracy: 0.7085\n",
            "Epoch 86/200\n",
            "243/243 [==============================] - 1s 3ms/step - loss: 0.5993 - accuracy: 0.6739 - val_loss: 0.5841 - val_accuracy: 0.7087\n",
            "1824/1824 [==============================] - 3s 2ms/step - loss: 0.5830 - accuracy: 0.7087\n",
            "Epoch 87/200\n",
            "243/243 [==============================] - 1s 3ms/step - loss: 0.6013 - accuracy: 0.6699 - val_loss: 0.5816 - val_accuracy: 0.7113\n",
            "1824/1824 [==============================] - 3s 2ms/step - loss: 0.5807 - accuracy: 0.7104\n",
            "Epoch 88/200\n",
            "243/243 [==============================] - 1s 3ms/step - loss: 0.6002 - accuracy: 0.6729 - val_loss: 0.5824 - val_accuracy: 0.7097\n",
            "1824/1824 [==============================] - 3s 2ms/step - loss: 0.5814 - accuracy: 0.7099\n",
            "Epoch 89/200\n",
            "243/243 [==============================] - 1s 3ms/step - loss: 0.6023 - accuracy: 0.6711 - val_loss: 0.5801 - val_accuracy: 0.7112\n",
            "1824/1824 [==============================] - 3s 2ms/step - loss: 0.5792 - accuracy: 0.7113\n",
            "Epoch 90/200\n",
            "243/243 [==============================] - 1s 3ms/step - loss: 0.6027 - accuracy: 0.6691 - val_loss: 0.5819 - val_accuracy: 0.7073\n",
            "1824/1824 [==============================] - 3s 2ms/step - loss: 0.5808 - accuracy: 0.7073\n",
            "Epoch 91/200\n",
            "243/243 [==============================] - 1s 3ms/step - loss: 0.6003 - accuracy: 0.6737 - val_loss: 0.5852 - val_accuracy: 0.7076\n",
            "1824/1824 [==============================] - 4s 2ms/step - loss: 0.5843 - accuracy: 0.7092\n",
            "Epoch 92/200\n",
            "243/243 [==============================] - 1s 4ms/step - loss: 0.6010 - accuracy: 0.6730 - val_loss: 0.5844 - val_accuracy: 0.7091\n",
            "1824/1824 [==============================] - 4s 2ms/step - loss: 0.5836 - accuracy: 0.7087\n",
            "Epoch 93/200\n",
            "243/243 [==============================] - 1s 4ms/step - loss: 0.6009 - accuracy: 0.6742 - val_loss: 0.5815 - val_accuracy: 0.7104\n",
            "1824/1824 [==============================] - 4s 2ms/step - loss: 0.5806 - accuracy: 0.7099\n",
            "Epoch 94/200\n",
            "243/243 [==============================] - 1s 3ms/step - loss: 0.6004 - accuracy: 0.6735 - val_loss: 0.5806 - val_accuracy: 0.7076\n",
            "1824/1824 [==============================] - 3s 2ms/step - loss: 0.5796 - accuracy: 0.7080\n",
            "Epoch 95/200\n",
            "243/243 [==============================] - 1s 3ms/step - loss: 0.6001 - accuracy: 0.6724 - val_loss: 0.5843 - val_accuracy: 0.7040\n",
            "1824/1824 [==============================] - 3s 2ms/step - loss: 0.5833 - accuracy: 0.7044\n",
            "Epoch 96/200\n",
            "243/243 [==============================] - 1s 3ms/step - loss: 0.6007 - accuracy: 0.6717 - val_loss: 0.5822 - val_accuracy: 0.7103\n",
            "1824/1824 [==============================] - 4s 2ms/step - loss: 0.5813 - accuracy: 0.7092\n",
            "Epoch 97/200\n",
            "243/243 [==============================] - 1s 3ms/step - loss: 0.6013 - accuracy: 0.6719 - val_loss: 0.5836 - val_accuracy: 0.7087\n",
            "1824/1824 [==============================] - 4s 2ms/step - loss: 0.5826 - accuracy: 0.7104\n",
            "Epoch 98/200\n",
            "243/243 [==============================] - 1s 3ms/step - loss: 0.6004 - accuracy: 0.6724 - val_loss: 0.5815 - val_accuracy: 0.7085\n",
            "1824/1824 [==============================] - 3s 2ms/step - loss: 0.5807 - accuracy: 0.7089\n",
            "Epoch 99/200\n",
            "243/243 [==============================] - 1s 3ms/step - loss: 0.6015 - accuracy: 0.6701 - val_loss: 0.5837 - val_accuracy: 0.7083\n",
            "1824/1824 [==============================] - 3s 2ms/step - loss: 0.5829 - accuracy: 0.7091\n",
            "Epoch 100/200\n",
            "243/243 [==============================] - 1s 3ms/step - loss: 0.6013 - accuracy: 0.6731 - val_loss: 0.5830 - val_accuracy: 0.7086\n",
            "1824/1824 [==============================] - 4s 2ms/step - loss: 0.5821 - accuracy: 0.7101\n",
            "Epoch 101/200\n",
            "243/243 [==============================] - 1s 3ms/step - loss: 0.6022 - accuracy: 0.6706 - val_loss: 0.5795 - val_accuracy: 0.7094\n",
            "1824/1824 [==============================] - 4s 2ms/step - loss: 0.5786 - accuracy: 0.7099\n",
            "Epoch 102/200\n",
            "243/243 [==============================] - 1s 3ms/step - loss: 0.6009 - accuracy: 0.6719 - val_loss: 0.5819 - val_accuracy: 0.7102\n",
            "1824/1824 [==============================] - 4s 2ms/step - loss: 0.5811 - accuracy: 0.7100\n",
            "Epoch 103/200\n",
            "243/243 [==============================] - 1s 3ms/step - loss: 0.6011 - accuracy: 0.6728 - val_loss: 0.5846 - val_accuracy: 0.7069\n",
            "1824/1824 [==============================] - 4s 2ms/step - loss: 0.5836 - accuracy: 0.7064\n",
            "Epoch 104/200\n",
            "243/243 [==============================] - 1s 3ms/step - loss: 0.6023 - accuracy: 0.6719 - val_loss: 0.5812 - val_accuracy: 0.7082\n",
            "1824/1824 [==============================] - 3s 2ms/step - loss: 0.5803 - accuracy: 0.7088\n",
            "Epoch 105/200\n",
            "243/243 [==============================] - 1s 3ms/step - loss: 0.6016 - accuracy: 0.6712 - val_loss: 0.5828 - val_accuracy: 0.7056\n",
            "1824/1824 [==============================] - 3s 2ms/step - loss: 0.5817 - accuracy: 0.7059\n",
            "Epoch 106/200\n",
            "243/243 [==============================] - 1s 3ms/step - loss: 0.6011 - accuracy: 0.6717 - val_loss: 0.5831 - val_accuracy: 0.7072\n",
            "1824/1824 [==============================] - 3s 2ms/step - loss: 0.5821 - accuracy: 0.7085\n",
            "Epoch 107/200\n",
            "243/243 [==============================] - 1s 3ms/step - loss: 0.5994 - accuracy: 0.6729 - val_loss: 0.5806 - val_accuracy: 0.7088\n",
            "1824/1824 [==============================] - 3s 2ms/step - loss: 0.5798 - accuracy: 0.7085\n",
            "Epoch 108/200\n",
            "243/243 [==============================] - 1s 3ms/step - loss: 0.6008 - accuracy: 0.6708 - val_loss: 0.5832 - val_accuracy: 0.7040\n",
            "1824/1824 [==============================] - 3s 2ms/step - loss: 0.5823 - accuracy: 0.7057\n",
            "Epoch 109/200\n",
            "243/243 [==============================] - 1s 3ms/step - loss: 0.6017 - accuracy: 0.6723 - val_loss: 0.5815 - val_accuracy: 0.7083\n",
            "1824/1824 [==============================] - 4s 2ms/step - loss: 0.5806 - accuracy: 0.7091\n",
            "Epoch 110/200\n",
            "243/243 [==============================] - 1s 3ms/step - loss: 0.6010 - accuracy: 0.6708 - val_loss: 0.5823 - val_accuracy: 0.7079\n",
            "1824/1824 [==============================] - 4s 2ms/step - loss: 0.5815 - accuracy: 0.7079\n",
            "Epoch 111/200\n",
            "243/243 [==============================] - 1s 3ms/step - loss: 0.5989 - accuracy: 0.6732 - val_loss: 0.5818 - val_accuracy: 0.7080\n",
            "1824/1824 [==============================] - 4s 2ms/step - loss: 0.5810 - accuracy: 0.7071\n",
            "Epoch 112/200\n",
            "243/243 [==============================] - 1s 3ms/step - loss: 0.5992 - accuracy: 0.6731 - val_loss: 0.5827 - val_accuracy: 0.7043\n",
            "1824/1824 [==============================] - 3s 2ms/step - loss: 0.5820 - accuracy: 0.7049\n",
            "Epoch 113/200\n",
            "243/243 [==============================] - 1s 3ms/step - loss: 0.6011 - accuracy: 0.6710 - val_loss: 0.5819 - val_accuracy: 0.7072\n",
            "1824/1824 [==============================] - 4s 2ms/step - loss: 0.5814 - accuracy: 0.7069\n",
            "Epoch 114/200\n",
            "243/243 [==============================] - 1s 3ms/step - loss: 0.5992 - accuracy: 0.6726 - val_loss: 0.5809 - val_accuracy: 0.7082\n",
            "1824/1824 [==============================] - 4s 2ms/step - loss: 0.5803 - accuracy: 0.7081\n",
            "Epoch 115/200\n",
            "243/243 [==============================] - 1s 4ms/step - loss: 0.6004 - accuracy: 0.6725 - val_loss: 0.5826 - val_accuracy: 0.7051\n",
            "1824/1824 [==============================] - 4s 2ms/step - loss: 0.5819 - accuracy: 0.7063\n",
            "Epoch 116/200\n",
            "243/243 [==============================] - 1s 3ms/step - loss: 0.6010 - accuracy: 0.6725 - val_loss: 0.5831 - val_accuracy: 0.7054\n",
            "1824/1824 [==============================] - 3s 2ms/step - loss: 0.5823 - accuracy: 0.7062\n",
            "Epoch 117/200\n",
            "243/243 [==============================] - 1s 3ms/step - loss: 0.6002 - accuracy: 0.6737 - val_loss: 0.5813 - val_accuracy: 0.7074\n",
            "1824/1824 [==============================] - 3s 2ms/step - loss: 0.5807 - accuracy: 0.7078\n",
            "Epoch 118/200\n",
            "243/243 [==============================] - 1s 3ms/step - loss: 0.5993 - accuracy: 0.6742 - val_loss: 0.5849 - val_accuracy: 0.7033\n",
            "1824/1824 [==============================] - 3s 2ms/step - loss: 0.5843 - accuracy: 0.7036\n",
            "Epoch 119/200\n",
            "243/243 [==============================] - 1s 3ms/step - loss: 0.5993 - accuracy: 0.6740 - val_loss: 0.5828 - val_accuracy: 0.7068\n",
            "1824/1824 [==============================] - 3s 2ms/step - loss: 0.5822 - accuracy: 0.7066\n",
            "Epoch 120/200\n",
            "243/243 [==============================] - 1s 3ms/step - loss: 0.6004 - accuracy: 0.6729 - val_loss: 0.5837 - val_accuracy: 0.7065\n",
            "1824/1824 [==============================] - 3s 2ms/step - loss: 0.5829 - accuracy: 0.7074\n",
            "Epoch 121/200\n",
            "243/243 [==============================] - 1s 3ms/step - loss: 0.5997 - accuracy: 0.6720 - val_loss: 0.5822 - val_accuracy: 0.7055\n",
            "1824/1824 [==============================] - 3s 2ms/step - loss: 0.5814 - accuracy: 0.7063\n",
            "Epoch 122/200\n",
            "243/243 [==============================] - 1s 3ms/step - loss: 0.5993 - accuracy: 0.6736 - val_loss: 0.5827 - val_accuracy: 0.7073\n",
            "1824/1824 [==============================] - 4s 2ms/step - loss: 0.5819 - accuracy: 0.7077\n",
            "Epoch 123/200\n",
            "243/243 [==============================] - 1s 3ms/step - loss: 0.6014 - accuracy: 0.6726 - val_loss: 0.5833 - val_accuracy: 0.7054\n",
            "1824/1824 [==============================] - 4s 2ms/step - loss: 0.5825 - accuracy: 0.7050\n",
            "Epoch 124/200\n",
            "243/243 [==============================] - 1s 3ms/step - loss: 0.5988 - accuracy: 0.6716 - val_loss: 0.5817 - val_accuracy: 0.7082\n",
            "1824/1824 [==============================] - 4s 2ms/step - loss: 0.5811 - accuracy: 0.7080\n",
            "Epoch 125/200\n",
            "243/243 [==============================] - 1s 3ms/step - loss: 0.6006 - accuracy: 0.6730 - val_loss: 0.5862 - val_accuracy: 0.7034\n",
            "1824/1824 [==============================] - 3s 2ms/step - loss: 0.5855 - accuracy: 0.7043\n",
            "Epoch 126/200\n",
            "243/243 [==============================] - 1s 3ms/step - loss: 0.6000 - accuracy: 0.6723 - val_loss: 0.5840 - val_accuracy: 0.7083\n",
            "1824/1824 [==============================] - 3s 2ms/step - loss: 0.5834 - accuracy: 0.7093\n",
            "Epoch 127/200\n",
            "243/243 [==============================] - 1s 3ms/step - loss: 0.6015 - accuracy: 0.6713 - val_loss: 0.5864 - val_accuracy: 0.7085\n",
            "1824/1824 [==============================] - 3s 2ms/step - loss: 0.5858 - accuracy: 0.7083\n",
            "Epoch 128/200\n",
            "243/243 [==============================] - 1s 3ms/step - loss: 0.6004 - accuracy: 0.6720 - val_loss: 0.5848 - val_accuracy: 0.7066\n",
            "1824/1824 [==============================] - 3s 2ms/step - loss: 0.5841 - accuracy: 0.7071\n",
            "Epoch 129/200\n",
            "243/243 [==============================] - 1s 3ms/step - loss: 0.6003 - accuracy: 0.6719 - val_loss: 0.5861 - val_accuracy: 0.7052\n",
            "1824/1824 [==============================] - 3s 2ms/step - loss: 0.5854 - accuracy: 0.7061\n",
            "Epoch 130/200\n",
            "243/243 [==============================] - 1s 3ms/step - loss: 0.6017 - accuracy: 0.6722 - val_loss: 0.5811 - val_accuracy: 0.7079\n",
            "1824/1824 [==============================] - 4s 2ms/step - loss: 0.5805 - accuracy: 0.7069\n",
            "Epoch 131/200\n",
            "243/243 [==============================] - 1s 3ms/step - loss: 0.6008 - accuracy: 0.6720 - val_loss: 0.5860 - val_accuracy: 0.7051\n",
            "1824/1824 [==============================] - 4s 2ms/step - loss: 0.5854 - accuracy: 0.7055\n",
            "Epoch 132/200\n",
            "243/243 [==============================] - 1s 4ms/step - loss: 0.5993 - accuracy: 0.6748 - val_loss: 0.5828 - val_accuracy: 0.7057\n",
            "1824/1824 [==============================] - 4s 2ms/step - loss: 0.5823 - accuracy: 0.7056\n",
            "Epoch 133/200\n",
            "243/243 [==============================] - 1s 3ms/step - loss: 0.5988 - accuracy: 0.6727 - val_loss: 0.5828 - val_accuracy: 0.7048\n",
            "1824/1824 [==============================] - 3s 2ms/step - loss: 0.5822 - accuracy: 0.7052\n",
            "Epoch 134/200\n",
            "243/243 [==============================] - 1s 4ms/step - loss: 0.6005 - accuracy: 0.6735 - val_loss: 0.5820 - val_accuracy: 0.7084\n",
            "1824/1824 [==============================] - 3s 2ms/step - loss: 0.5815 - accuracy: 0.7079\n",
            "Epoch 135/200\n",
            "243/243 [==============================] - 1s 3ms/step - loss: 0.6000 - accuracy: 0.6710 - val_loss: 0.5826 - val_accuracy: 0.7092\n",
            "1824/1824 [==============================] - 3s 2ms/step - loss: 0.5821 - accuracy: 0.7087\n",
            "Epoch 136/200\n",
            "243/243 [==============================] - 1s 3ms/step - loss: 0.5996 - accuracy: 0.6714 - val_loss: 0.5831 - val_accuracy: 0.7046\n",
            "1824/1824 [==============================] - 3s 2ms/step - loss: 0.5825 - accuracy: 0.7057\n",
            "Epoch 137/200\n",
            "243/243 [==============================] - 1s 3ms/step - loss: 0.6009 - accuracy: 0.6711 - val_loss: 0.5845 - val_accuracy: 0.7041\n",
            "1824/1824 [==============================] - 3s 2ms/step - loss: 0.5840 - accuracy: 0.7048\n",
            "Epoch 138/200\n",
            "243/243 [==============================] - 1s 3ms/step - loss: 0.6003 - accuracy: 0.6724 - val_loss: 0.5837 - val_accuracy: 0.7038\n",
            "1824/1824 [==============================] - 3s 2ms/step - loss: 0.5831 - accuracy: 0.7043\n",
            "Epoch 139/200\n",
            "243/243 [==============================] - 1s 3ms/step - loss: 0.6007 - accuracy: 0.6724 - val_loss: 0.5831 - val_accuracy: 0.7073\n",
            "1824/1824 [==============================] - 4s 2ms/step - loss: 0.5825 - accuracy: 0.7072\n",
            "Epoch 140/200\n",
            "243/243 [==============================] - 1s 3ms/step - loss: 0.6016 - accuracy: 0.6702 - val_loss: 0.5837 - val_accuracy: 0.7064\n",
            "1824/1824 [==============================] - 4s 2ms/step - loss: 0.5831 - accuracy: 0.7069\n",
            "Epoch 141/200\n",
            "243/243 [==============================] - 1s 4ms/step - loss: 0.6005 - accuracy: 0.6731 - val_loss: 0.5827 - val_accuracy: 0.7063\n",
            "1824/1824 [==============================] - 4s 2ms/step - loss: 0.5821 - accuracy: 0.7068\n",
            "Epoch 142/200\n",
            "243/243 [==============================] - 1s 3ms/step - loss: 0.5987 - accuracy: 0.6723 - val_loss: 0.5816 - val_accuracy: 0.7054\n",
            "1824/1824 [==============================] - 3s 2ms/step - loss: 0.5812 - accuracy: 0.7072\n",
            "Epoch 143/200\n",
            "243/243 [==============================] - 1s 3ms/step - loss: 0.6008 - accuracy: 0.6715 - val_loss: 0.5825 - val_accuracy: 0.7045\n",
            "1824/1824 [==============================] - 3s 2ms/step - loss: 0.5820 - accuracy: 0.7055\n",
            "Epoch 144/200\n",
            "243/243 [==============================] - 1s 3ms/step - loss: 0.5990 - accuracy: 0.6716 - val_loss: 0.5834 - val_accuracy: 0.7056\n",
            "1824/1824 [==============================] - 4s 2ms/step - loss: 0.5830 - accuracy: 0.7046\n",
            "Epoch 145/200\n",
            "243/243 [==============================] - 1s 3ms/step - loss: 0.5986 - accuracy: 0.6728 - val_loss: 0.5848 - val_accuracy: 0.7024\n",
            "1824/1824 [==============================] - 3s 2ms/step - loss: 0.5841 - accuracy: 0.7024\n",
            "Epoch 146/200\n",
            "243/243 [==============================] - 1s 3ms/step - loss: 0.6001 - accuracy: 0.6727 - val_loss: 0.5819 - val_accuracy: 0.7067\n",
            "1824/1824 [==============================] - 3s 2ms/step - loss: 0.5814 - accuracy: 0.7066\n",
            "Epoch 147/200\n",
            "243/243 [==============================] - 1s 3ms/step - loss: 0.6011 - accuracy: 0.6710 - val_loss: 0.5816 - val_accuracy: 0.7068\n",
            "1824/1824 [==============================] - 4s 2ms/step - loss: 0.5811 - accuracy: 0.7077\n",
            "Epoch 148/200\n",
            "243/243 [==============================] - 1s 3ms/step - loss: 0.6000 - accuracy: 0.6719 - val_loss: 0.5845 - val_accuracy: 0.7056\n",
            "1824/1824 [==============================] - 4s 2ms/step - loss: 0.5841 - accuracy: 0.7068\n",
            "Epoch 149/200\n",
            "243/243 [==============================] - 1s 3ms/step - loss: 0.5985 - accuracy: 0.6727 - val_loss: 0.5828 - val_accuracy: 0.7042\n",
            "1824/1824 [==============================] - 4s 2ms/step - loss: 0.5824 - accuracy: 0.7050\n",
            "Epoch 150/200\n",
            "243/243 [==============================] - 1s 3ms/step - loss: 0.5986 - accuracy: 0.6772 - val_loss: 0.5841 - val_accuracy: 0.7040\n",
            "1824/1824 [==============================] - 4s 2ms/step - loss: 0.5835 - accuracy: 0.7045\n",
            "Epoch 151/200\n",
            "243/243 [==============================] - 1s 3ms/step - loss: 0.5978 - accuracy: 0.6733 - val_loss: 0.5838 - val_accuracy: 0.7018\n",
            "1824/1824 [==============================] - 3s 2ms/step - loss: 0.5831 - accuracy: 0.7031\n",
            "Epoch 152/200\n",
            "243/243 [==============================] - 1s 3ms/step - loss: 0.6002 - accuracy: 0.6742 - val_loss: 0.5830 - val_accuracy: 0.7044\n",
            "1824/1824 [==============================] - 4s 2ms/step - loss: 0.5825 - accuracy: 0.7049\n",
            "Epoch 153/200\n",
            "243/243 [==============================] - 1s 3ms/step - loss: 0.6011 - accuracy: 0.6718 - val_loss: 0.5841 - val_accuracy: 0.7015\n",
            "1824/1824 [==============================] - 4s 2ms/step - loss: 0.5836 - accuracy: 0.7037\n",
            "Epoch 154/200\n",
            "243/243 [==============================] - 1s 3ms/step - loss: 0.5992 - accuracy: 0.6721 - val_loss: 0.5859 - val_accuracy: 0.7030\n",
            "1824/1824 [==============================] - 4s 2ms/step - loss: 0.5851 - accuracy: 0.7050\n",
            "Epoch 155/200\n",
            "243/243 [==============================] - 1s 3ms/step - loss: 0.5999 - accuracy: 0.6720 - val_loss: 0.5830 - val_accuracy: 0.7008\n",
            "1824/1824 [==============================] - 3s 2ms/step - loss: 0.5822 - accuracy: 0.7030\n",
            "Epoch 156/200\n",
            "243/243 [==============================] - 1s 3ms/step - loss: 0.6001 - accuracy: 0.6704 - val_loss: 0.5848 - val_accuracy: 0.7053\n",
            "1824/1824 [==============================] - 3s 2ms/step - loss: 0.5843 - accuracy: 0.7064\n",
            "Epoch 157/200\n",
            "243/243 [==============================] - 1s 3ms/step - loss: 0.6000 - accuracy: 0.6738 - val_loss: 0.5835 - val_accuracy: 0.7024\n",
            "1824/1824 [==============================] - 3s 2ms/step - loss: 0.5829 - accuracy: 0.7034\n",
            "Epoch 158/200\n",
            "243/243 [==============================] - 1s 3ms/step - loss: 0.6003 - accuracy: 0.6724 - val_loss: 0.5814 - val_accuracy: 0.7050\n",
            "1824/1824 [==============================] - 3s 2ms/step - loss: 0.5809 - accuracy: 0.7050\n",
            "Epoch 159/200\n",
            "243/243 [==============================] - 1s 3ms/step - loss: 0.5997 - accuracy: 0.6715 - val_loss: 0.5822 - val_accuracy: 0.7035\n",
            "1824/1824 [==============================] - 3s 2ms/step - loss: 0.5816 - accuracy: 0.7038\n",
            "Epoch 160/200\n",
            "243/243 [==============================] - 1s 3ms/step - loss: 0.5995 - accuracy: 0.6723 - val_loss: 0.5848 - val_accuracy: 0.7066\n",
            "1824/1824 [==============================] - 4s 2ms/step - loss: 0.5844 - accuracy: 0.7063\n",
            "Epoch 161/200\n",
            "243/243 [==============================] - 1s 3ms/step - loss: 0.5995 - accuracy: 0.6740 - val_loss: 0.5828 - val_accuracy: 0.7090\n",
            "1824/1824 [==============================] - 4s 2ms/step - loss: 0.5823 - accuracy: 0.7094\n",
            "Epoch 162/200\n",
            "243/243 [==============================] - 1s 3ms/step - loss: 0.5993 - accuracy: 0.6729 - val_loss: 0.5826 - val_accuracy: 0.7073\n",
            "1824/1824 [==============================] - 4s 2ms/step - loss: 0.5822 - accuracy: 0.7071\n",
            "Epoch 163/200\n",
            "243/243 [==============================] - 1s 3ms/step - loss: 0.5995 - accuracy: 0.6733 - val_loss: 0.5840 - val_accuracy: 0.7037\n",
            "1824/1824 [==============================] - 4s 2ms/step - loss: 0.5833 - accuracy: 0.7038\n",
            "Epoch 164/200\n",
            "243/243 [==============================] - 1s 3ms/step - loss: 0.5996 - accuracy: 0.6732 - val_loss: 0.5830 - val_accuracy: 0.7075\n",
            "1824/1824 [==============================] - 3s 2ms/step - loss: 0.5825 - accuracy: 0.7064\n",
            "Epoch 165/200\n",
            "243/243 [==============================] - 1s 3ms/step - loss: 0.5996 - accuracy: 0.6740 - val_loss: 0.5841 - val_accuracy: 0.7031\n",
            "1824/1824 [==============================] - 4s 2ms/step - loss: 0.5836 - accuracy: 0.7039\n",
            "Epoch 166/200\n",
            "243/243 [==============================] - 1s 3ms/step - loss: 0.5990 - accuracy: 0.6726 - val_loss: 0.5852 - val_accuracy: 0.7060\n",
            "1824/1824 [==============================] - 3s 2ms/step - loss: 0.5848 - accuracy: 0.7054\n",
            "Epoch 167/200\n",
            "243/243 [==============================] - 1s 3ms/step - loss: 0.5990 - accuracy: 0.6730 - val_loss: 0.5866 - val_accuracy: 0.7040\n",
            "1824/1824 [==============================] - 3s 2ms/step - loss: 0.5860 - accuracy: 0.7054\n",
            "Epoch 168/200\n",
            "243/243 [==============================] - 1s 3ms/step - loss: 0.5976 - accuracy: 0.6754 - val_loss: 0.5852 - val_accuracy: 0.7039\n",
            "1824/1824 [==============================] - 3s 2ms/step - loss: 0.5846 - accuracy: 0.7039\n",
            "Epoch 169/200\n",
            "243/243 [==============================] - 1s 3ms/step - loss: 0.6001 - accuracy: 0.6705 - val_loss: 0.5843 - val_accuracy: 0.7043\n",
            "1824/1824 [==============================] - 4s 2ms/step - loss: 0.5838 - accuracy: 0.7038\n",
            "Epoch 170/200\n",
            "243/243 [==============================] - 1s 3ms/step - loss: 0.5974 - accuracy: 0.6765 - val_loss: 0.5819 - val_accuracy: 0.7011\n",
            "1824/1824 [==============================] - 4s 2ms/step - loss: 0.5813 - accuracy: 0.7009\n",
            "Epoch 171/200\n",
            "243/243 [==============================] - 1s 4ms/step - loss: 0.6012 - accuracy: 0.6723 - val_loss: 0.5839 - val_accuracy: 0.7031\n",
            "1824/1824 [==============================] - 4s 2ms/step - loss: 0.5834 - accuracy: 0.7040\n",
            "Epoch 172/200\n",
            "243/243 [==============================] - 1s 3ms/step - loss: 0.5986 - accuracy: 0.6726 - val_loss: 0.5864 - val_accuracy: 0.7012\n",
            "1824/1824 [==============================] - 4s 2ms/step - loss: 0.5858 - accuracy: 0.7013\n",
            "Epoch 173/200\n",
            "243/243 [==============================] - 1s 3ms/step - loss: 0.5993 - accuracy: 0.6734 - val_loss: 0.5837 - val_accuracy: 0.7056\n",
            "1824/1824 [==============================] - 3s 2ms/step - loss: 0.5832 - accuracy: 0.7054\n",
            "Epoch 174/200\n",
            "243/243 [==============================] - 1s 3ms/step - loss: 0.5994 - accuracy: 0.6727 - val_loss: 0.5845 - val_accuracy: 0.7036\n",
            "1824/1824 [==============================] - 3s 2ms/step - loss: 0.5841 - accuracy: 0.7040\n",
            "Epoch 175/200\n",
            "243/243 [==============================] - 1s 3ms/step - loss: 0.5994 - accuracy: 0.6702 - val_loss: 0.5831 - val_accuracy: 0.7036\n",
            "1824/1824 [==============================] - 3s 2ms/step - loss: 0.5825 - accuracy: 0.7043\n",
            "Epoch 176/200\n",
            "243/243 [==============================] - 1s 3ms/step - loss: 0.5977 - accuracy: 0.6745 - val_loss: 0.5825 - val_accuracy: 0.7054\n",
            "1824/1824 [==============================] - 3s 2ms/step - loss: 0.5820 - accuracy: 0.7038\n",
            "Epoch 177/200\n",
            "243/243 [==============================] - 1s 3ms/step - loss: 0.5986 - accuracy: 0.6735 - val_loss: 0.5839 - val_accuracy: 0.7046\n",
            "1824/1824 [==============================] - 3s 2ms/step - loss: 0.5834 - accuracy: 0.7037\n",
            "Epoch 178/200\n",
            "243/243 [==============================] - 1s 3ms/step - loss: 0.5992 - accuracy: 0.6739 - val_loss: 0.5826 - val_accuracy: 0.7055\n",
            "1824/1824 [==============================] - 4s 2ms/step - loss: 0.5822 - accuracy: 0.7057\n",
            "Epoch 179/200\n",
            "243/243 [==============================] - 1s 3ms/step - loss: 0.5977 - accuracy: 0.6763 - val_loss: 0.5842 - val_accuracy: 0.7071\n",
            "1824/1824 [==============================] - 4s 2ms/step - loss: 0.5838 - accuracy: 0.7060\n",
            "Epoch 180/200\n",
            "243/243 [==============================] - 1s 4ms/step - loss: 0.6001 - accuracy: 0.6733 - val_loss: 0.5846 - val_accuracy: 0.7086\n",
            "1824/1824 [==============================] - 4s 2ms/step - loss: 0.5844 - accuracy: 0.7090\n",
            "Epoch 181/200\n",
            "243/243 [==============================] - 1s 4ms/step - loss: 0.5979 - accuracy: 0.6734 - val_loss: 0.5848 - val_accuracy: 0.7055\n",
            "1824/1824 [==============================] - 4s 2ms/step - loss: 0.5844 - accuracy: 0.7047\n",
            "Epoch 182/200\n",
            "243/243 [==============================] - 1s 3ms/step - loss: 0.5981 - accuracy: 0.6751 - val_loss: 0.5828 - val_accuracy: 0.7053\n",
            "1824/1824 [==============================] - 3s 2ms/step - loss: 0.5824 - accuracy: 0.7055\n",
            "Epoch 183/200\n",
            "243/243 [==============================] - 1s 3ms/step - loss: 0.6001 - accuracy: 0.6723 - val_loss: 0.5863 - val_accuracy: 0.7038\n",
            "1824/1824 [==============================] - 3s 2ms/step - loss: 0.5860 - accuracy: 0.7032\n",
            "Epoch 184/200\n",
            "243/243 [==============================] - 1s 3ms/step - loss: 0.6002 - accuracy: 0.6744 - val_loss: 0.5859 - val_accuracy: 0.7037\n",
            "1824/1824 [==============================] - 3s 2ms/step - loss: 0.5855 - accuracy: 0.7026\n",
            "Epoch 185/200\n",
            "243/243 [==============================] - 1s 3ms/step - loss: 0.5986 - accuracy: 0.6744 - val_loss: 0.5837 - val_accuracy: 0.7032\n",
            "1824/1824 [==============================] - 4s 2ms/step - loss: 0.5834 - accuracy: 0.7030\n",
            "Epoch 186/200\n",
            "243/243 [==============================] - 1s 3ms/step - loss: 0.5989 - accuracy: 0.6746 - val_loss: 0.5817 - val_accuracy: 0.7072\n",
            "1824/1824 [==============================] - 4s 2ms/step - loss: 0.5814 - accuracy: 0.7072\n",
            "Epoch 187/200\n",
            "243/243 [==============================] - 1s 3ms/step - loss: 0.5999 - accuracy: 0.6727 - val_loss: 0.5830 - val_accuracy: 0.7050\n",
            "1824/1824 [==============================] - 4s 2ms/step - loss: 0.5826 - accuracy: 0.7043\n",
            "Epoch 188/200\n",
            "243/243 [==============================] - 1s 3ms/step - loss: 0.5987 - accuracy: 0.6730 - val_loss: 0.5823 - val_accuracy: 0.7061\n",
            "1824/1824 [==============================] - 4s 2ms/step - loss: 0.5819 - accuracy: 0.7057\n",
            "Epoch 189/200\n",
            "243/243 [==============================] - 1s 3ms/step - loss: 0.5995 - accuracy: 0.6750 - val_loss: 0.5845 - val_accuracy: 0.7081\n",
            "1824/1824 [==============================] - 4s 2ms/step - loss: 0.5844 - accuracy: 0.7067\n",
            "Epoch 190/200\n",
            "243/243 [==============================] - 1s 3ms/step - loss: 0.5999 - accuracy: 0.6733 - val_loss: 0.5864 - val_accuracy: 0.7015\n",
            "1824/1824 [==============================] - 3s 2ms/step - loss: 0.5862 - accuracy: 0.7012\n",
            "Epoch 191/200\n",
            "243/243 [==============================] - 1s 3ms/step - loss: 0.5990 - accuracy: 0.6732 - val_loss: 0.5827 - val_accuracy: 0.7053\n",
            "1824/1824 [==============================] - 3s 2ms/step - loss: 0.5825 - accuracy: 0.7036\n",
            "Epoch 192/200\n",
            "243/243 [==============================] - 1s 3ms/step - loss: 0.5991 - accuracy: 0.6735 - val_loss: 0.5817 - val_accuracy: 0.7061\n",
            "1824/1824 [==============================] - 3s 2ms/step - loss: 0.5816 - accuracy: 0.7059\n",
            "Epoch 193/200\n",
            "243/243 [==============================] - 1s 3ms/step - loss: 0.5990 - accuracy: 0.6741 - val_loss: 0.5841 - val_accuracy: 0.7085\n",
            "1824/1824 [==============================] - 3s 2ms/step - loss: 0.5838 - accuracy: 0.7089\n",
            "Epoch 194/200\n",
            "243/243 [==============================] - 1s 3ms/step - loss: 0.5974 - accuracy: 0.6742 - val_loss: 0.5832 - val_accuracy: 0.7054\n",
            "1824/1824 [==============================] - 4s 2ms/step - loss: 0.5829 - accuracy: 0.7053\n",
            "Epoch 195/200\n",
            "243/243 [==============================] - 1s 3ms/step - loss: 0.5997 - accuracy: 0.6734 - val_loss: 0.5858 - val_accuracy: 0.7040\n",
            "1824/1824 [==============================] - 4s 2ms/step - loss: 0.5855 - accuracy: 0.7042\n",
            "Epoch 196/200\n",
            "243/243 [==============================] - 1s 3ms/step - loss: 0.5985 - accuracy: 0.6751 - val_loss: 0.5830 - val_accuracy: 0.7050\n",
            "1824/1824 [==============================] - 4s 2ms/step - loss: 0.5826 - accuracy: 0.7056\n",
            "Epoch 197/200\n",
            "243/243 [==============================] - 1s 4ms/step - loss: 0.5984 - accuracy: 0.6742 - val_loss: 0.5826 - val_accuracy: 0.7070\n",
            "1824/1824 [==============================] - 4s 2ms/step - loss: 0.5824 - accuracy: 0.7053\n",
            "Epoch 198/200\n",
            "243/243 [==============================] - 1s 3ms/step - loss: 0.5982 - accuracy: 0.6745 - val_loss: 0.5848 - val_accuracy: 0.7044\n",
            "1824/1824 [==============================] - 4s 2ms/step - loss: 0.5845 - accuracy: 0.7048\n",
            "Epoch 199/200\n",
            "243/243 [==============================] - 1s 3ms/step - loss: 0.5981 - accuracy: 0.6763 - val_loss: 0.5799 - val_accuracy: 0.7066\n",
            "1824/1824 [==============================] - 3s 2ms/step - loss: 0.5799 - accuracy: 0.7068\n",
            "Epoch 200/200\n",
            "243/243 [==============================] - 1s 3ms/step - loss: 0.5984 - accuracy: 0.6730 - val_loss: 0.5845 - val_accuracy: 0.7040\n",
            "1824/1824 [==============================] - 4s 2ms/step - loss: 0.5841 - accuracy: 0.7030\n"
          ],
          "name": "stdout"
        }
      ]
    },
    {
      "cell_type": "code",
      "metadata": {
        "id": "Lm0t_5SL5hEz"
      },
      "source": [
        ""
      ],
      "execution_count": null,
      "outputs": []
    },
    {
      "cell_type": "code",
      "metadata": {
        "id": "anI5Y3TfDuYi"
      },
      "source": [
        "#base_folder_1 = '/content/drive/MyDrive/math 6315/Datasets/' + 'best_model_20210721-013404/' \n",
        "#base_folder_1 = '/content/drive/MyDrive/math 6315/Datasets/' + 'best_model_20210722-053738/' \n",
        "#base_folder_1 = '/content/drive/MyDrive/math 6315/Datasets/' + 'best_model_20210723-223457/'\n",
        "base_folder_1 = '/content/drive/MyDrive/math 6315/Datasets/' + file_dir + '/'\n",
        "base_folder_1\n",
        "\n",
        "os.chdir(base_folder_1)"
      ],
      "execution_count": null,
      "outputs": []
    },
    {
      "cell_type": "code",
      "metadata": {
        "id": "euZSsqEh6I2V"
      },
      "source": [
        "for j in ['X', 'Y']:\n",
        "  for i in ['train', 'test']:\n",
        "    exec(\"{y}_{x} = pd.read_csv('{y}_{x}.csv')\".format(x = i, y = j))"
      ],
      "execution_count": null,
      "outputs": []
    },
    {
      "cell_type": "code",
      "metadata": {
        "id": "3UlySWXJDuez"
      },
      "source": [
        "from tensorflow.keras.models import load_model\n",
        "trained_model_1 = load_model(base_folder_1)\n",
        "monitor_1 = pd.read_csv('monitor_1.csv')"
      ],
      "execution_count": null,
      "outputs": []
    },
    {
      "cell_type": "code",
      "metadata": {
        "id": "anOZ-qSN_hcJ",
        "colab": {
          "base_uri": "https://localhost:8080/"
        },
        "outputId": "d00c4f7f-d10f-454f-ff92-ef61323a1770"
      },
      "source": [
        "trained_model_1.summary()"
      ],
      "execution_count": null,
      "outputs": [
        {
          "output_type": "stream",
          "text": [
            "Model: \"sequential\"\n",
            "_________________________________________________________________\n",
            "Layer (type)                 Output Shape              Param #   \n",
            "=================================================================\n",
            "dropout (Dropout)            (None, 21)                0         \n",
            "_________________________________________________________________\n",
            "dense (Dense)                (None, 40)                880       \n",
            "_________________________________________________________________\n",
            "dropout_1 (Dropout)          (None, 40)                0         \n",
            "_________________________________________________________________\n",
            "dense_1 (Dense)              (None, 16)                656       \n",
            "_________________________________________________________________\n",
            "dropout_2 (Dropout)          (None, 16)                0         \n",
            "_________________________________________________________________\n",
            "dense_2 (Dense)              (None, 2)                 34        \n",
            "_________________________________________________________________\n",
            "activation (Activation)      (None, 2)                 0         \n",
            "=================================================================\n",
            "Total params: 1,570\n",
            "Trainable params: 1,570\n",
            "Non-trainable params: 0\n",
            "_________________________________________________________________\n"
          ],
          "name": "stdout"
        }
      ]
    },
    {
      "cell_type": "code",
      "metadata": {
        "id": "20p1HBgq_wA6",
        "colab": {
          "base_uri": "https://localhost:8080/",
          "height": 865
        },
        "outputId": "0cdf6019-89bf-460d-efcc-aecd2c78246a"
      },
      "source": [
        "from tensorflow.keras.utils import plot_model\n",
        "plot_model(model = trained_model_1, show_shapes = True, show_layer_names = True)"
      ],
      "execution_count": null,
      "outputs": [
        {
          "output_type": "execute_result",
          "data": {
            "image/png": "[encoded data removed]",
            "text/plain": [
              "<IPython.core.display.Image object>"
            ]
          },
          "metadata": {
            "tags": []
          },
          "execution_count": 76
        }
      ]
    },
    {
      "cell_type": "code",
      "metadata": {
        "id": "MNU4ioGI_6HI"
      },
      "source": [
        "import matplotlib.pyplot as plt"
      ],
      "execution_count": null,
      "outputs": []
    },
    {
      "cell_type": "code",
      "metadata": {
        "id": "bKyMqGzl_www",
        "colab": {
          "base_uri": "https://localhost:8080/",
          "height": 625
        },
        "outputId": "9d036e5b-6e7c-4cfd-f0de-28ab61873406"
      },
      "source": [
        "plt.figure(figsize = (16, 9), dpi = 80)\n",
        "plt.plot(\n",
        "    np.arange(1, last_epoch + 1, 1), \n",
        "    monitor_1['train_loss'],\n",
        "    label = 'training_loss'\n",
        ")\n",
        "plt.plot(\n",
        "    np.arange(1, last_epoch + 1, 1), \n",
        "    monitor_1['val_loss'],\n",
        "    label = 'validation_loss'\n",
        ")\n",
        "plt.xlabel('Epoch #')\n",
        "plt.ylabel('Loss')\n",
        "plt.title(f'Training/Validation Loss')\n",
        "plt.legend() \n",
        "# axes = plt.gca()\n",
        "# axes.set_ylim([0, np.max(mse.iloc[10:,].to_numpy())])\n",
        "plt.grid()\n",
        "plt.show()"
      ],
      "execution_count": null,
      "outputs": [
        {
          "output_type": "display_data",
          "data": {
            "image/png": "[encoded data removed]",
            "text/plain": [
              "<Figure size 1280x720 with 1 Axes>"
            ]
          },
          "metadata": {
            "tags": [],
            "needs_background": "light"
          }
        }
      ]
    },
    {
      "cell_type": "code",
      "metadata": {
        "id": "ZQifCi-F__V1",
        "colab": {
          "base_uri": "https://localhost:8080/",
          "height": 625
        },
        "outputId": "56165f10-9ab4-4522-bd6b-20bca3efca47"
      },
      "source": [
        "plt.figure(figsize = (16, 9), dpi = 80)\n",
        "plt.plot(\n",
        "    np.arange(1, last_epoch + 1, 1), \n",
        "    monitor_1['train_accuracy'],\n",
        "    label = 'training_accuracy'\n",
        ")\n",
        "plt.plot(\n",
        "    np.arange(1, last_epoch + 1, 1), \n",
        "    monitor_1['val_accuracy'],\n",
        "    label = 'validation_accuracy'\n",
        ")\n",
        "plt.xlabel('Epoch #')\n",
        "plt.ylabel('Accuracy')\n",
        "plt.title(f'Training/Validation Accuracy')\n",
        "plt.legend() \n",
        "plt.grid()\n",
        "plt.show()"
      ],
      "execution_count": null,
      "outputs": [
        {
          "output_type": "display_data",
          "data": {
            "image/png": "[encoded data removed]",
            "text/plain": [
              "<Figure size 1280x720 with 1 Axes>"
            ]
          },
          "metadata": {
            "tags": [],
            "needs_background": "light"
          }
        }
      ]
    },
    {
      "cell_type": "code",
      "metadata": {
        "id": "a25vcBkH__wM",
        "colab": {
          "base_uri": "https://localhost:8080/",
          "height": 782
        },
        "outputId": "b852f898-9e5c-4fd8-ad3c-2f9643d4495f"
      },
      "source": [
        "plt.figure(figsize = (16, 9), dpi = 100)\n",
        "plt.plot(\n",
        "    np.arange(1, last_epoch + 1, 1), \n",
        "    monitor_1['train_accuracy'],\n",
        "    label = 'training_accuracy'\n",
        ")\n",
        "plt.plot(\n",
        "    np.arange(1, last_epoch + 1, 1), \n",
        "    monitor_1['val_accuracy'],\n",
        "    label = 'validation_accuracy'\n",
        ")\n",
        "plt.plot(\n",
        "    np.arange(1, last_epoch + 1, 1), \n",
        "    monitor_1['train_loss'],\n",
        "    label = 'training_loss'\n",
        ")\n",
        "plt.plot(\n",
        "    np.arange(1, last_epoch + 1, 1), \n",
        "    monitor_1['val_loss'],\n",
        "    label = 'validation_loss'\n",
        ")\n",
        "plt.xlabel('Epoch #')\n",
        "plt.ylabel('Accuracy/Loss')\n",
        "plt.title(f'Training/Validation Accuracy/Loss')\n",
        "plt.legend() \n",
        "plt.grid()\n",
        "plt.show()"
      ],
      "execution_count": null,
      "outputs": [
        {
          "output_type": "display_data",
          "data": {
            "image/png": "[encoded data removed]",
            "text/plain": [
              "<Figure size 1600x900 with 1 Axes>"
            ]
          },
          "metadata": {
            "tags": [],
            "needs_background": "light"
          }
        }
      ]
    },
    {
      "cell_type": "code",
      "metadata": {
        "id": "2XQE4pti8Zya"
      },
      "source": [
        "best_epoch_1 = monitor_1.iloc[monitor_1['val_accuracy'].idxmax(), ]"
      ],
      "execution_count": null,
      "outputs": []
    },
    {
      "cell_type": "code",
      "metadata": {
        "id": "0TvMqy3c8Z31",
        "colab": {
          "base_uri": "https://localhost:8080/"
        },
        "outputId": "d045301d-3dba-4f5c-8933-8e84db96753a"
      },
      "source": [
        "train_perf_1 = best_epoch_1['train_accuracy']\n",
        "train_perf_1"
      ],
      "execution_count": null,
      "outputs": [
        {
          "output_type": "execute_result",
          "data": {
            "text/plain": [
              "0.7128120660781859"
            ]
          },
          "metadata": {
            "tags": []
          },
          "execution_count": 58
        }
      ]
    },
    {
      "cell_type": "code",
      "metadata": {
        "id": "Oricrp6Z8Z6F",
        "colab": {
          "base_uri": "https://localhost:8080/"
        },
        "outputId": "fc7a3109-a150-484d-fd7c-352b07be59ff"
      },
      "source": [
        "test_perf_1 = best_epoch_1['val_accuracy']\n",
        "test_perf_1"
      ],
      "execution_count": null,
      "outputs": [
        {
          "output_type": "execute_result",
          "data": {
            "text/plain": [
              "0.7144277691841125"
            ]
          },
          "metadata": {
            "tags": []
          },
          "execution_count": 59
        }
      ]
    },
    {
      "cell_type": "code",
      "metadata": {
        "id": "oY9AgUQz1Kda",
        "colab": {
          "base_uri": "https://localhost:8080/"
        },
        "outputId": "32017034-6afb-4e5c-8ffa-359c9a0d36e0"
      },
      "source": [
        "train_loss_1 = best_epoch_1['train_loss']\n",
        "train_loss_1"
      ],
      "execution_count": null,
      "outputs": [
        {
          "output_type": "execute_result",
          "data": {
            "text/plain": [
              "0.5783394575119019"
            ]
          },
          "metadata": {
            "tags": []
          },
          "execution_count": 60
        }
      ]
    },
    {
      "cell_type": "code",
      "metadata": {
        "id": "37hcGa7x1RQ7",
        "colab": {
          "base_uri": "https://localhost:8080/"
        },
        "outputId": "3450760a-b3ed-4980-cb04-13eb6e904080"
      },
      "source": [
        "test_loss_1 = best_epoch_1['val_loss']\n",
        "test_loss_1"
      ],
      "execution_count": null,
      "outputs": [
        {
          "output_type": "execute_result",
          "data": {
            "text/plain": [
              "0.5792912244796753"
            ]
          },
          "metadata": {
            "tags": []
          },
          "execution_count": 61
        }
      ]
    },
    {
      "cell_type": "code",
      "metadata": {
        "id": "QMCtdVFMA_bQ"
      },
      "source": [
        "def plot_confusion_matrix(y_true, y_pred, classes, normalize = False, title = None, cmap = plt.cm.Blues):\n",
        "    \"\"\"\n",
        "    This function prints and plots the confusion matrix.\n",
        "    Normalization can be applied by setting `normalize = True`.\n",
        "    \"\"\"\n",
        "    if not title:\n",
        "        if normalize:\n",
        "            title = 'Normalized confusion matrix'\n",
        "        else:\n",
        "            title = 'Confusion matrix, without normalization'\n",
        "\n",
        "    # Compute confusion matrix\n",
        "    cm = confusion_matrix(y_true, y_pred)\n",
        "    # Only use the labels that appear in the data\n",
        "    classes = classes[unique_labels(y_true, y_pred)]\n",
        "    if normalize:\n",
        "        cm = cm.astype('float') / cm.sum(axis = 1)[:, np.newaxis]\n",
        "        print(\"Normalized confusion matrix\")\n",
        "    else:\n",
        "        print('Confusion matrix, without normalization')\n",
        "\n",
        "    print(cm)\n",
        "\n",
        "    fig, ax = plt.subplots(figsize = (16,8))\n",
        "    im = ax.imshow(cm, interpolation = 'nearest', cmap = cmap, vmin = 0, vmax = 1)\n",
        "    ax.figure.colorbar(im, ax = ax)\n",
        "    # We want to show all ticks...\n",
        "    ax.set(xticks = np.arange(cm.shape[1]),\n",
        "           yticks = np.arange(cm.shape[0]),\n",
        "           # ... and label them with the respective list entries\n",
        "           xticklabels = classes, yticklabels = classes,\n",
        "           title = title,\n",
        "           ylabel = 'True label',\n",
        "           xlabel = 'Predicted label')\n",
        "\n",
        "    # Rotate the tick labels and set their alignment.\n",
        "    plt.setp(ax.get_xticklabels(), rotation = 45, ha = \"right\",\n",
        "             rotation_mode = \"anchor\")\n",
        "\n",
        "    # Loop over data dimensions and create text annotations.\n",
        "    fmt = '.2f' if normalize else 'd'\n",
        "    thresh = cm.max() / 2.\n",
        "    for i in range(cm.shape[0]):\n",
        "        for j in range(cm.shape[1]):\n",
        "            ax.text(j, i, format(cm[i, j], fmt),\n",
        "                    ha = \"center\", va = \"center\",\n",
        "                    color = \"white\" if cm[i, j] > thresh else \"black\")\n",
        "    fig.tight_layout()\n",
        "    return ax"
      ],
      "execution_count": null,
      "outputs": []
    },
    {
      "cell_type": "code",
      "metadata": {
        "id": "zo2EBzLX7JHn"
      },
      "source": [
        "Y_pred_train_1 = trained_model_1.predict(X_train)\n",
        "Y_pred_test_1 = trained_model_1.predict(X_test)\n",
        "\n",
        "Ylabel_train_1 = np.argmax(np.array(Y_train), axis = 1)\n",
        "Ylabel_test_1 = np.argmax(np.array(Y_test), axis = 1)\n",
        "\n",
        "Ypredlabel_train_1 = np.argmax(Y_pred_train_1, axis = 1)\n",
        "Ypredlabel_test_1 = np.argmax(Y_pred_test_1, axis = 1)"
      ],
      "execution_count": null,
      "outputs": []
    },
    {
      "cell_type": "code",
      "metadata": {
        "id": "Hs7fOuAXBQI4",
        "colab": {
          "base_uri": "https://localhost:8080/"
        },
        "outputId": "f049250e-0843-4ad3-da98-b965eb022ccd"
      },
      "source": [
        "classes = np.array(list(range( len(Y_train.columns) )))\n",
        "classes"
      ],
      "execution_count": null,
      "outputs": [
        {
          "output_type": "execute_result",
          "data": {
            "text/plain": [
              "array([0, 1])"
            ]
          },
          "metadata": {
            "tags": []
          },
          "execution_count": 64
        }
      ]
    },
    {
      "cell_type": "code",
      "metadata": {
        "id": "MqlpKDFRBEkA",
        "colab": {
          "base_uri": "https://localhost:8080/",
          "height": 636
        },
        "outputId": "04238af0-2ca3-49d1-816c-ed9a0233ff7d"
      },
      "source": [
        "plot_confusion_matrix(Ylabel_train_1, Ypredlabel_train_1, classes = classes, normalize = True, title = 'Normalized confusion matrix')\n",
        "plt.show()"
      ],
      "execution_count": null,
      "outputs": [
        {
          "output_type": "stream",
          "text": [
            "Normalized confusion matrix\n",
            "[[0.58502443 0.41497557]\n",
            " [0.19700114 0.80299886]]\n"
          ],
          "name": "stdout"
        },
        {
          "output_type": "display_data",
          "data": {
            "image/png": "[encoded data removed]",
            "text/plain": [
              "<Figure size 1152x576 with 2 Axes>"
            ]
          },
          "metadata": {
            "tags": [],
            "needs_background": "light"
          }
        }
      ]
    },
    {
      "cell_type": "code",
      "metadata": {
        "id": "b1U3G2S9BTNX",
        "colab": {
          "base_uri": "https://localhost:8080/",
          "height": 636
        },
        "outputId": "8a7c8d4e-2197-4454-f0f4-9f81108b8652"
      },
      "source": [
        "plot_confusion_matrix(Ylabel_test_1, Ypredlabel_test_1, classes = classes, normalize = True, title = 'Normalized confusion matrix')\n",
        "plt.show()"
      ],
      "execution_count": null,
      "outputs": [
        {
          "output_type": "stream",
          "text": [
            "Normalized confusion matrix\n",
            "[[0.58076102 0.41923898]\n",
            " [0.19276134 0.80723866]]\n"
          ],
          "name": "stdout"
        },
        {
          "output_type": "display_data",
          "data": {
            "image/png": "[encoded data removed]",
            "text/plain": [
              "<Figure size 1152x576 with 2 Axes>"
            ]
          },
          "metadata": {
            "tags": [],
            "needs_background": "light"
          }
        }
      ]
    },
    {
      "cell_type": "code",
      "metadata": {
        "id": "Xgl_UjPP7vMD"
      },
      "source": [
        "cm_train_1 = confusion_matrix(Ylabel_train_1, Ypredlabel_train_1)\n",
        "cm_test_1 = confusion_matrix(Ylabel_test_1, Ypredlabel_test_1)"
      ],
      "execution_count": null,
      "outputs": []
    },
    {
      "cell_type": "code",
      "metadata": {
        "id": "rv5uyfBnPGGu",
        "colab": {
          "base_uri": "https://localhost:8080/"
        },
        "outputId": "d616cb38-db32-4cda-ffd7-6df356ee942c"
      },
      "source": [
        "cm_train_1"
      ],
      "execution_count": null,
      "outputs": [
        {
          "output_type": "execute_result",
          "data": {
            "text/plain": [
              "array([[14126, 10020],\n",
              "       [ 6740, 27473]])"
            ]
          },
          "metadata": {
            "tags": []
          },
          "execution_count": 68
        }
      ]
    },
    {
      "cell_type": "code",
      "metadata": {
        "id": "Gi3l5AqBg2an",
        "colab": {
          "base_uri": "https://localhost:8080/"
        },
        "outputId": "0580dfe7-91d8-413c-dba3-e30d122e8045"
      },
      "source": [
        "cm_test_1"
      ],
      "execution_count": null,
      "outputs": [
        {
          "output_type": "execute_result",
          "data": {
            "text/plain": [
              "array([[ 5983,  4319],\n",
              "       [ 2860, 11977]])"
            ]
          },
          "metadata": {
            "tags": []
          },
          "execution_count": 69
        }
      ]
    },
    {
      "cell_type": "code",
      "metadata": {
        "id": "lNU4XpZwe1Q5"
      },
      "source": [
        ""
      ],
      "execution_count": null,
      "outputs": []
    },
    {
      "cell_type": "code",
      "metadata": {
        "id": "3DwjdAP2wo_P"
      },
      "source": [
        "%%R\n",
        "factor = data.frame(unique(cbind(offense_cut$OF_description, offense_cut$OF_category)))\n",
        "colnames(factor) = c(\"JDOFND\", \"JDOFCT\")\n",
        "factor$JDOFND_f = as.integer( factor(x = factor$JDOFND, levels = sort(unique(factor$JDOFND))) )\n",
        "factor$JDOFCT_f = as.integer( factor(x = factor$JDOFCT, levels = sort(unique(factor$JDOFCT))) )\n",
        "write.csv(factor, \"factor.csv\", row.names = FALSE)"
      ],
      "execution_count": null,
      "outputs": []
    },
    {
      "cell_type": "code",
      "metadata": {
        "id": "NDkm3mdxwha_",
        "colab": {
          "base_uri": "https://localhost:8080/",
          "height": 419
        },
        "outputId": "8284f74a-4e88-444b-84ee-f60518fe5695"
      },
      "source": [
        "import pandas as pd\n",
        "factor = pd.read_csv('factor.csv')\n",
        "factor"
      ],
      "execution_count": null,
      "outputs": [
        {
          "output_type": "execute_result",
          "data": {
            "text/html": [
              "<div>\n",
              "<style scoped>\n",
              "    .dataframe tbody tr th:only-of-type {\n",
              "        vertical-align: middle;\n",
              "    }\n",
              "\n",
              "    .dataframe tbody tr th {\n",
              "        vertical-align: top;\n",
              "    }\n",
              "\n",
              "    .dataframe thead th {\n",
              "        text-align: right;\n",
              "    }\n",
              "</style>\n",
              "<table border=\"1\" class=\"dataframe\">\n",
              "  <thead>\n",
              "    <tr style=\"text-align: right;\">\n",
              "      <th></th>\n",
              "      <th>JDOFND</th>\n",
              "      <th>JDOFCT</th>\n",
              "      <th>JDOFND_f</th>\n",
              "      <th>JDOFCT_f</th>\n",
              "    </tr>\n",
              "  </thead>\n",
              "  <tbody>\n",
              "    <tr>\n",
              "      <th>0</th>\n",
              "      <td>RUNAWAY - IN COUNTY</td>\n",
              "      <td>CHINS</td>\n",
              "      <td>479</td>\n",
              "      <td>3</td>\n",
              "    </tr>\n",
              "    <tr>\n",
              "      <th>1</th>\n",
              "      <td>BURGLARY HABITATION</td>\n",
              "      <td>PROPERTY/FELONY</td>\n",
              "      <td>92</td>\n",
              "      <td>7</td>\n",
              "    </tr>\n",
              "    <tr>\n",
              "      <th>2</th>\n",
              "      <td>ASSAULT-FAMILY MEMBER</td>\n",
              "      <td>PERSON/MISD</td>\n",
              "      <td>41</td>\n",
              "      <td>6</td>\n",
              "    </tr>\n",
              "    <tr>\n",
              "      <th>3</th>\n",
              "      <td>TICKET ON MISDEMEANOR C</td>\n",
              "      <td>ADMINISTRATIVE</td>\n",
              "      <td>567</td>\n",
              "      <td>1</td>\n",
              "    </tr>\n",
              "    <tr>\n",
              "      <th>4</th>\n",
              "      <td>MARIJUANA USE - LESS THAN 2 OZ</td>\n",
              "      <td>ILLEGAL SUBSTANCE/F M</td>\n",
              "      <td>329</td>\n",
              "      <td>4</td>\n",
              "    </tr>\n",
              "    <tr>\n",
              "      <th>...</th>\n",
              "      <td>...</td>\n",
              "      <td>...</td>\n",
              "      <td>...</td>\n",
              "      <td>...</td>\n",
              "    </tr>\n",
              "    <tr>\n",
              "      <th>606</th>\n",
              "      <td>TAMPER W/CERT/INSP/MAINT REPOR</td>\n",
              "      <td>ALL OTHERS/F MAB</td>\n",
              "      <td>502</td>\n",
              "      <td>2</td>\n",
              "    </tr>\n",
              "    <tr>\n",
              "      <th>607</th>\n",
              "      <td>ONLINE HARAS W/ID INFO SOLICT</td>\n",
              "      <td>ALL OTHERS/F MAB</td>\n",
              "      <td>359</td>\n",
              "      <td>2</td>\n",
              "    </tr>\n",
              "    <tr>\n",
              "      <th>608</th>\n",
              "      <td>DWI W/ CHILD UNDER 15 YOA</td>\n",
              "      <td>ALL OTHERS/F MAB</td>\n",
              "      <td>168</td>\n",
              "      <td>2</td>\n",
              "    </tr>\n",
              "    <tr>\n",
              "      <th>609</th>\n",
              "      <td>CONSPIRACY/2ND DEGREE FELONY</td>\n",
              "      <td>ALL OTHERS/F MAB</td>\n",
              "      <td>118</td>\n",
              "      <td>2</td>\n",
              "    </tr>\n",
              "    <tr>\n",
              "      <th>610</th>\n",
              "      <td>ATT ENGAGE ORG CRIMINAL ACT</td>\n",
              "      <td>ALL OTHERS/F MAB</td>\n",
              "      <td>57</td>\n",
              "      <td>2</td>\n",
              "    </tr>\n",
              "  </tbody>\n",
              "</table>\n",
              "<p>611 rows × 4 columns</p>\n",
              "</div>"
            ],
            "text/plain": [
              "                             JDOFND                 JDOFCT  JDOFND_f  JDOFCT_f\n",
              "0               RUNAWAY - IN COUNTY                  CHINS       479         3\n",
              "1               BURGLARY HABITATION        PROPERTY/FELONY        92         7\n",
              "2             ASSAULT-FAMILY MEMBER            PERSON/MISD        41         6\n",
              "3           TICKET ON MISDEMEANOR C         ADMINISTRATIVE       567         1\n",
              "4    MARIJUANA USE - LESS THAN 2 OZ  ILLEGAL SUBSTANCE/F M       329         4\n",
              "..                              ...                    ...       ...       ...\n",
              "606  TAMPER W/CERT/INSP/MAINT REPOR       ALL OTHERS/F MAB       502         2\n",
              "607   ONLINE HARAS W/ID INFO SOLICT       ALL OTHERS/F MAB       359         2\n",
              "608       DWI W/ CHILD UNDER 15 YOA       ALL OTHERS/F MAB       168         2\n",
              "609    CONSPIRACY/2ND DEGREE FELONY       ALL OTHERS/F MAB       118         2\n",
              "610     ATT ENGAGE ORG CRIMINAL ACT       ALL OTHERS/F MAB        57         2\n",
              "\n",
              "[611 rows x 4 columns]"
            ]
          },
          "metadata": {
            "tags": []
          },
          "execution_count": 33
        }
      ]
    },
    {
      "cell_type": "code",
      "metadata": {
        "id": "6KT4vWFBp5PS",
        "colab": {
          "base_uri": "https://localhost:8080/"
        },
        "outputId": "0777a37b-6c1a-4b9e-9af6-c0df378ee77a"
      },
      "source": [
        "import datetime as dt\n",
        "bd_entry = input('Enter the Birth Date in YYYY-MM-DD format: ')\n",
        "IIBY___, IIBM___, IIBD___ = map(int, bd_entry.split('-'))\n",
        "bd = dt.date(IIBY___, IIBM___, IIBD___)\n",
        "\n",
        "gender_entry = input('Enter the Gender: ').lower()\n",
        "while gender_entry != 'male' and gender_entry != 'female': \n",
        "  print('please type either male or female.')\n",
        "  gender_entry = input('Enter the Gender (male or female): ').lower()\n",
        "if gender_entry == 'male': \n",
        "  IIGE___ = 1\n",
        "elif gender_entry == 'female':\n",
        "  IIGE___ = 2\n",
        "\n",
        "ethnicity_entry = input('Enter the Ethnicity: ').lower()\n",
        "while ethnicity_entry != 'asian' and ethnicity_entry != 'black' and ethnicity_entry != 'hispanic' and ethnicity_entry != 'white':\n",
        "  print('please type Asian, Black, Hispanic, or White.')\n",
        "  ethnicity_entry = input('Enter the Ethnicity: ').lower()\n",
        "if ethnicity_entry == 'asian':\n",
        "  IIRA___ = 1\n",
        "elif ethnicity_entry == 'black':\n",
        "  IIRA___ = 2\n",
        "elif ethnicity_entry == 'hispanic':\n",
        "  IIRA___ = 3\n",
        "elif ethnicity_entry == 'white':\n",
        "  IIRA___ = 4\n",
        "\n",
        "def age(start_date, end_date):\n",
        "  start_date, end_date = str(start_date), str(end_date)\n",
        "  strt_yr, strt_mth, strt_dy = map(int, start_date.split('-'))\n",
        "  end_yr, end_mth, end_dy = map(int, end_date.split('-'))\n",
        "  age = end_yr - strt_yr + list(map(lambda x: -1 if x < 0 else 0, [int(\"%02d\" % end_mth + \"%02d\" % end_dy) - int(\"%02d\" % strt_mth + \"%02d\" % strt_dy)]))[0]\n",
        "  from datetime import datetime as dt\n",
        "  try: \n",
        "    Age = age + ( dt.strptime(end_date, \"%Y-%m-%d\") - dt.strptime(f'{strt_yr + age}-{strt_mth}-{strt_dy}', \"%Y-%m-%d\") ).days / ((366 + 365 + 365 + 365) / 4)\n",
        "  except:\n",
        "    if strt_mth == 2 and strt_dy == 29:\n",
        "      Age = age + ( dt.strptime(end_date, \"%Y-%m-%d\") - dt.strptime(f'{strt_yr + age}-02-28', \"%Y-%m-%d\") ).days / ((366 + 365 + 365 + 365) / 4)\n",
        "    else:\n",
        "      print('please enter a correct date!!!')\n",
        "  return Age\n",
        "\n",
        "import datetime as dt\n",
        "OF_date_entry = input('Enter the Offense Date in YYYY-MM-DD format: ')\n",
        "OF_yr, OF_mth, OF_dy = map(int, OF_date_entry.split('-'))\n",
        "OF_date = dt.date(OF_yr, OF_mth, OF_dy)\n",
        "JDOF_age = age(bd, OF_date)\n",
        "\n",
        "JDOF_ordinal = int(input('Enter an ordinal number that the juvenile object committed the offense: '))\n",
        "while JDOF_ordinal < 1:\n",
        "  print(\"please type an integer number that is not less than 1.\")\n",
        "  JDOF_ordinal = int(input('Enter an ordinal number that the juvenile object committed the offense: '))\n",
        "\n",
        "import pandas as pd\n",
        "factor = pd.read_csv('factor.csv')\n",
        "\n",
        "OFND_entry = input('Enter the description that new offense code categorized by severity: ').upper()\n",
        "index = factor.index[ factor['JDOFND'] == OFND_entry ][0]\n",
        "JDOFND, JDOFCT = factor['JDOFND_f'][index], factor['JDOFCT_f'][index]\n",
        "\n",
        "OFSL_entry = int( input('Enter the degree of severity that new offense code categorized by severity: ') )\n",
        "while OFSL_entry > 9 or OFSL_entry < 0: \n",
        "  print('please type an integer that in the range from 0 to 9.')\n",
        "  OFSL_entry = int( input('Enter the degree of severity that new offense code categorized by severity: ') )\n",
        "JDOFSL = OFSL_entry\n",
        "\n",
        "JDDT_convict = input('Is the juvenile object imprisoned? ').lower()\n",
        "while JDDT_convict != 'yes' and JDDT_convict != 'no': \n",
        "  print('please type either Yes or No.')\n",
        "  JDDT_convict = input('Is the juvenile object imprisoned? ').lower()\n",
        "if JDDT_convict == \"yes\": JDDT_convict = 1\n",
        "elif JDDT_convict == \"no\": JDDT_convict = 0\n",
        "\n",
        "from datetime import datetime as dt\n",
        "if JDDT_convict == 0: \n",
        "  JDDT_duration = 0\n",
        "elif JDDT_convict == 1:\n",
        "  DT_enter = dt.strptime( input('Enter the date the juvenile object was placed in detention in YYYY-MM-DD format: '), \"%Y-%m-%d\" )\n",
        "  DT_exit = dt.strptime( input('Enter the date the juvenile object was released from detention in YYYY-MM-DD format: '), \"%Y-%m-%d\" )\n",
        "  JDDT_duration = (DT_exit - DT_enter).days\n",
        "\n",
        "import datetime as dt\n",
        "MY_date_entry = input('Enter Screening date or date the department attempted to administer or an assessment date for MAYSI-2 in YYYY-MM-DD format: ')\n",
        "MY_yr, MY_mth, MY_dy = map(int, MY_date_entry.split('-'))\n",
        "MY_date = dt.date(MY_yr, MY_mth, MY_dy)\n",
        "JDMY_age = age(bd, MY_date)\n",
        "\n",
        "JDMYA = input('Was the MAYSI-2 administered to the juvenile object? ').lower()\n",
        "while JDMYA != 'yes' and JDMYA != 'no': \n",
        "  print('please type either Yes or No.')\n",
        "  JDMYA = input('Is the juvenile object imprisoned? ').lower()\n",
        "if JDMYA == \"yes\": JDMYA = 1\n",
        "elif JDMYA == \"no\": JDMYA = 0\n",
        "\n",
        "if bool(JDMYA) == True:\n",
        "  JDMYAD = int(input('Enter the Alcohol/drug Use Score: '))\n",
        "  JDMYAI = int(input('Enter the Angry-irritable Score: '))\n",
        "  JDMYDA = int(input('Enter the Depressed-anxiety Score: '))\n",
        "  JDMYSC = int(input('Enter the Somatic Complaints Score: '))\n",
        "  JDMYSI = int(input('Enter the Suicide Ideation Score: '))\n",
        "  JDMYTD = int(input('Enter the Thought Disturbance Boys Score: '))\n",
        "  JDMYTE = int(input('Enter the Traumatic Experiences Score: '))\n",
        "elif bool(JDMYA) == False:\n",
        "  JDMYAD, JDMYAI, JDMYDA, JDMYSC, JDMYSI, JDMYTD, JDMYTE = -1, -1, -1, -1, -1, -1, -1"
      ],
      "execution_count": null,
      "outputs": [
        {
          "output_type": "stream",
          "text": [
            "Enter the Birth Date in YYYY-MM-DD format: 2001-01-01\n",
            "Enter the Gender: Male\n",
            "Enter the Ethnicity: Asian\n",
            "Enter the Offense Date in YYYY-MM-DD format: 2016-02-06\n",
            "Enter an ordinal number that the juvenile object committed the offense: 1\n",
            "Enter the description that new offense code categorized by severity: MURDER\n",
            "Enter the degree of severity that new offense code categorized by severity: 9\n",
            "Is the juvenile object imprisoned? Yes\n",
            "Enter the date the juvenile object was placed in detention in YYYY-MM-DD format: 2016-02-07\n",
            "Enter the date the juvenile object was released from detention in YYYY-MM-DD format: 2018-12-1\n",
            "Enter Screening date or date the department attempted to administer or an assessment date for MAYSI-2 in YYYY-MM-DD format: 2016-03-04\n",
            "Was the MAYSI-2 administered to the juvenile object? Yes\n",
            "Enter the Alcohol/drug Use Score: 5\n",
            "Enter the Angry-irritable Score: 4\n",
            "Enter the Depressed-anxiety Score: 3\n",
            "Enter the Somatic Complaints Score: 2\n",
            "Enter the Suicide Ideation Score: 1\n",
            "Enter the Thought Disturbance Boys Score: 0\n",
            "Enter the Traumatic Experiences Score: 0\n"
          ],
          "name": "stdout"
        }
      ]
    },
    {
      "cell_type": "code",
      "metadata": {
        "id": "pnXTrM_Gp5b4"
      },
      "source": [
        "import numpy as np\n",
        "import pandas as pd\n",
        "input = np.array([IIBY___, IIBM___, IIBD___, IIGE___, IIRA___, JDOF_age, JDOFND, JDOFCT,\n",
        "                  JDOFSL, JDOF_ordinal, JDDT_convict, JDDT_duration, \n",
        "                  JDMYA, JDMY_age, JDMYAD, JDMYAI, JDMYDA, JDMYSC, JDMYSI, JDMYTD, JDMYTE])\n",
        "input = input.reshape(1, input.shape[0])\n",
        "INPUT = pd.DataFrame(data = input, \n",
        "                     columns = ['IIBY___', 'IIBM___', 'IIBD___', 'IIGE___', 'IIRA___', 'JDOF_age', \n",
        "                                'JDOFND', 'JDOFCT', 'JDOFSL', 'JDOF_ordinal', 'JDDT_convict', \n",
        "                                'JDDT_duration', 'JDMYA', 'JDMY_age', 'JDMYAD', 'JDMYAI', 'JDMYDA', \n",
        "                                'JDMYSC', 'JDMYSI', 'JDMYTD', 'JDMYTE'], index = ['input'])"
      ],
      "execution_count": null,
      "outputs": []
    },
    {
      "cell_type": "code",
      "metadata": {
        "colab": {
          "base_uri": "https://localhost:8080/",
          "height": 80
        },
        "id": "BAtWTNBC21Um",
        "outputId": "02552278-a5b7-4c79-9c8a-8c86bc746b2a"
      },
      "source": [
        "pd.DataFrame(data = INPUT.loc[:, 'IIBY___' : 'IIRA___'], \n",
        "             columns = ['IIBY___', 'IIBM___', 'IIBD___', 'IIGE___', 'IIRA___'], \n",
        "             index = ['input'])"
      ],
      "execution_count": null,
      "outputs": [
        {
          "output_type": "execute_result",
          "data": {
            "text/html": [
              "<div>\n",
              "<style scoped>\n",
              "    .dataframe tbody tr th:only-of-type {\n",
              "        vertical-align: middle;\n",
              "    }\n",
              "\n",
              "    .dataframe tbody tr th {\n",
              "        vertical-align: top;\n",
              "    }\n",
              "\n",
              "    .dataframe thead th {\n",
              "        text-align: right;\n",
              "    }\n",
              "</style>\n",
              "<table border=\"1\" class=\"dataframe\">\n",
              "  <thead>\n",
              "    <tr style=\"text-align: right;\">\n",
              "      <th></th>\n",
              "      <th>IIBY___</th>\n",
              "      <th>IIBM___</th>\n",
              "      <th>IIBD___</th>\n",
              "      <th>IIGE___</th>\n",
              "      <th>IIRA___</th>\n",
              "    </tr>\n",
              "  </thead>\n",
              "  <tbody>\n",
              "    <tr>\n",
              "      <th>input</th>\n",
              "      <td>2001.0</td>\n",
              "      <td>1.0</td>\n",
              "      <td>1.0</td>\n",
              "      <td>1.0</td>\n",
              "      <td>1.0</td>\n",
              "    </tr>\n",
              "  </tbody>\n",
              "</table>\n",
              "</div>"
            ],
            "text/plain": [
              "       IIBY___  IIBM___  IIBD___  IIGE___  IIRA___\n",
              "input   2001.0      1.0      1.0      1.0      1.0"
            ]
          },
          "metadata": {
            "tags": []
          },
          "execution_count": 33
        }
      ]
    },
    {
      "cell_type": "code",
      "metadata": {
        "colab": {
          "base_uri": "https://localhost:8080/",
          "height": 80
        },
        "id": "E1GEEy8V3Z8C",
        "outputId": "5cf27fd0-2d2d-4dd5-df66-f4e43825ed4b"
      },
      "source": [
        "pd.DataFrame(data = INPUT.loc[:, 'JDOF_age' : 'JDDT_duration'], \n",
        "             columns = ['JDOF_age', 'JDOFND', 'JDOFCT', 'JDOFSL', \n",
        "                        'JDOF_ordinal', 'JDDT_convict', 'JDDT_duration'], \n",
        "             index = ['input'])"
      ],
      "execution_count": null,
      "outputs": [
        {
          "output_type": "execute_result",
          "data": {
            "text/html": [
              "<div>\n",
              "<style scoped>\n",
              "    .dataframe tbody tr th:only-of-type {\n",
              "        vertical-align: middle;\n",
              "    }\n",
              "\n",
              "    .dataframe tbody tr th {\n",
              "        vertical-align: top;\n",
              "    }\n",
              "\n",
              "    .dataframe thead th {\n",
              "        text-align: right;\n",
              "    }\n",
              "</style>\n",
              "<table border=\"1\" class=\"dataframe\">\n",
              "  <thead>\n",
              "    <tr style=\"text-align: right;\">\n",
              "      <th></th>\n",
              "      <th>JDOF_age</th>\n",
              "      <th>JDOFND</th>\n",
              "      <th>JDOFCT</th>\n",
              "      <th>JDOFSL</th>\n",
              "      <th>JDOF_ordinal</th>\n",
              "      <th>JDDT_convict</th>\n",
              "      <th>JDDT_duration</th>\n",
              "    </tr>\n",
              "  </thead>\n",
              "  <tbody>\n",
              "    <tr>\n",
              "      <th>input</th>\n",
              "      <td>15.098563</td>\n",
              "      <td>350.0</td>\n",
              "      <td>5.0</td>\n",
              "      <td>9.0</td>\n",
              "      <td>1.0</td>\n",
              "      <td>1.0</td>\n",
              "      <td>1028.0</td>\n",
              "    </tr>\n",
              "  </tbody>\n",
              "</table>\n",
              "</div>"
            ],
            "text/plain": [
              "        JDOF_age  JDOFND  JDOFCT  ...  JDOF_ordinal  JDDT_convict  JDDT_duration\n",
              "input  15.098563   350.0     5.0  ...           1.0           1.0         1028.0\n",
              "\n",
              "[1 rows x 7 columns]"
            ]
          },
          "metadata": {
            "tags": []
          },
          "execution_count": 36
        }
      ]
    },
    {
      "cell_type": "code",
      "metadata": {
        "colab": {
          "base_uri": "https://localhost:8080/",
          "height": 80
        },
        "id": "P4nOq6q83qpt",
        "outputId": "571c478a-d00e-40ab-859b-ff17941581d0"
      },
      "source": [
        "pd.DataFrame(data = INPUT.loc[:, 'JDMYA' : 'JDMYTE'], \n",
        "             columns = ['JDMYA', 'JDMY_age', 'JDMYAD', 'JDMYAI', \n",
        "                        'JDMYDA', 'JDMYSC', 'JDMYSI', 'JDMYTD', 'JDMYTE'], \n",
        "             index = ['input'])"
      ],
      "execution_count": null,
      "outputs": [
        {
          "output_type": "execute_result",
          "data": {
            "text/html": [
              "<div>\n",
              "<style scoped>\n",
              "    .dataframe tbody tr th:only-of-type {\n",
              "        vertical-align: middle;\n",
              "    }\n",
              "\n",
              "    .dataframe tbody tr th {\n",
              "        vertical-align: top;\n",
              "    }\n",
              "\n",
              "    .dataframe thead th {\n",
              "        text-align: right;\n",
              "    }\n",
              "</style>\n",
              "<table border=\"1\" class=\"dataframe\">\n",
              "  <thead>\n",
              "    <tr style=\"text-align: right;\">\n",
              "      <th></th>\n",
              "      <th>JDMYA</th>\n",
              "      <th>JDMY_age</th>\n",
              "      <th>JDMYAD</th>\n",
              "      <th>JDMYAI</th>\n",
              "      <th>JDMYDA</th>\n",
              "      <th>JDMYSC</th>\n",
              "      <th>JDMYSI</th>\n",
              "      <th>JDMYTD</th>\n",
              "      <th>JDMYTE</th>\n",
              "    </tr>\n",
              "  </thead>\n",
              "  <tbody>\n",
              "    <tr>\n",
              "      <th>input</th>\n",
              "      <td>1.0</td>\n",
              "      <td>15.172485</td>\n",
              "      <td>5.0</td>\n",
              "      <td>4.0</td>\n",
              "      <td>3.0</td>\n",
              "      <td>2.0</td>\n",
              "      <td>1.0</td>\n",
              "      <td>0.0</td>\n",
              "      <td>0.0</td>\n",
              "    </tr>\n",
              "  </tbody>\n",
              "</table>\n",
              "</div>"
            ],
            "text/plain": [
              "       JDMYA   JDMY_age  JDMYAD  JDMYAI  JDMYDA  JDMYSC  JDMYSI  JDMYTD  JDMYTE\n",
              "input    1.0  15.172485     5.0     4.0     3.0     2.0     1.0     0.0     0.0"
            ]
          },
          "metadata": {
            "tags": []
          },
          "execution_count": 37
        }
      ]
    },
    {
      "cell_type": "code",
      "metadata": {
        "id": "fI6HEPp0p5d6",
        "colab": {
          "base_uri": "https://localhost:8080/",
          "height": 80
        },
        "outputId": "378d0b30-19c5-47a0-f585-813f2dae90bc"
      },
      "source": [
        "os.chdir('/content/drive/MyDrive/math 6315/Datasets/' + 'best_model_20210723-223457/')\n",
        "from tensorflow.keras.models import load_model\n",
        "trained_model_1 = load_model(base_folder_1)\n",
        "predict = pd.DataFrame(\n",
        "    data = trained_model_1.predict(input), \n",
        "    columns = ['Yep', 'Nope'], \n",
        "    index = ['Probability'])\n",
        "#predict = pd.DataFrame(data = trained_model_1.predict(np.array(X_train.iloc[1, ]).reshape(1, X_train.shape[1])), columns = ['Yep', 'Nope'], index = ['Probability'])\n",
        "predict"
      ],
      "execution_count": null,
      "outputs": [
        {
          "output_type": "execute_result",
          "data": {
            "text/html": [
              "<div>\n",
              "<style scoped>\n",
              "    .dataframe tbody tr th:only-of-type {\n",
              "        vertical-align: middle;\n",
              "    }\n",
              "\n",
              "    .dataframe tbody tr th {\n",
              "        vertical-align: top;\n",
              "    }\n",
              "\n",
              "    .dataframe thead th {\n",
              "        text-align: right;\n",
              "    }\n",
              "</style>\n",
              "<table border=\"1\" class=\"dataframe\">\n",
              "  <thead>\n",
              "    <tr style=\"text-align: right;\">\n",
              "      <th></th>\n",
              "      <th>Yep</th>\n",
              "      <th>Nope</th>\n",
              "    </tr>\n",
              "  </thead>\n",
              "  <tbody>\n",
              "    <tr>\n",
              "      <th>Probability</th>\n",
              "      <td>0.286576</td>\n",
              "      <td>0.713424</td>\n",
              "    </tr>\n",
              "  </tbody>\n",
              "</table>\n",
              "</div>"
            ],
            "text/plain": [
              "                  Yep      Nope\n",
              "Probability  0.286576  0.713424"
            ]
          },
          "metadata": {
            "tags": []
          },
          "execution_count": 31
        }
      ]
    },
    {
      "cell_type": "code",
      "metadata": {
        "id": "zqFyVKAlp5gh"
      },
      "source": [
        ""
      ],
      "execution_count": null,
      "outputs": []
    },
    {
      "cell_type": "code",
      "metadata": {
        "id": "B0V7MYwFp5ip"
      },
      "source": [
        ""
      ],
      "execution_count": null,
      "outputs": []
    },
    {
      "cell_type": "code",
      "metadata": {
        "id": "4tfpzEoXp5m3"
      },
      "source": [
        ""
      ],
      "execution_count": null,
      "outputs": []
    },
    {
      "cell_type": "code",
      "metadata": {
        "id": "Bz3dZhpMR2YV"
      },
      "source": [
        ""
      ],
      "execution_count": null,
      "outputs": []
    }
  ]
}